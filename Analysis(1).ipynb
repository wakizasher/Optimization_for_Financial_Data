{
 "cells": [
  {
   "cell_type": "code",
   "execution_count": 0,
   "metadata": {
    "application/vnd.databricks.v1+cell": {
     "cellMetadata": {
      "byteLimit": 2048000,
      "rowLimit": 10000
     },
     "inputWidgets": {},
     "nuid": "db9554f7-ede3-4276-8da8-e44bb1c4e8c3",
     "showTitle": false,
     "tableResultSettingsMap": {},
     "title": ""
    }
   },
   "outputs": [],
   "source": [
    "import pandas as pd\n",
    "import numpy as np\n",
    "import matplotlib.pyplot as plt\n",
    "import seaborn as sns\n"
   ]
  },
  {
   "cell_type": "code",
   "execution_count": 0,
   "metadata": {
    "application/vnd.databricks.v1+cell": {
     "cellMetadata": {
      "byteLimit": 2048000,
      "rowLimit": 10000
     },
     "inputWidgets": {},
     "nuid": "9157a00e-5b3c-4a0e-a53c-b07ea9ba1507",
     "showTitle": false,
     "tableResultSettingsMap": {},
     "title": ""
    }
   },
   "outputs": [],
   "source": [
    "file_path1 = \"/Workspace/Users/n.gavrilov@student.fontys.nl/Claire/random_search_summary_metrics.csv\"\n",
    "file_path2 = \"/Workspace/Users/n.gavrilov@student.fontys.nl/Claire/optuna_hpo_results_with_metrics.csv\"\n",
    "file_path3 = \"/Workspace/Users/n.gavrilov@student.fontys.nl/Claire/trajectory_hpo_results_with_metrics.csv\"\n",
    "file_path4 = \"/Workspace/Users/n.gavrilov@student.fontys.nl/Claire/afi_hpo_results_with_metrics.csv\"\n",
    "\n",
    "random_search = pd.read_csv(file_path1)\n",
    "optuna = pd.read_csv(file_path2)\n",
    "trajectory = pd.read_csv(file_path3)\n",
    "afi = pd.read_csv(file_path4)"
   ]
  },
  {
   "cell_type": "code",
   "execution_count": 0,
   "metadata": {
    "application/vnd.databricks.v1+cell": {
     "cellMetadata": {
      "byteLimit": 2048000,
      "rowLimit": 10000
     },
     "inputWidgets": {},
     "nuid": "71994948-fd9b-48a6-9ab6-c8349431f7c0",
     "showTitle": false,
     "tableResultSettingsMap": {},
     "title": ""
    }
   },
   "outputs": [],
   "source": [
    "file_path1 = \"/Workspace/Users/n.gavrilov@student.fontys.nl/Claire/random_search_results_with_metrics_with_outliers.csv\"\n",
    "file_path2 = \"/Workspace/Users/n.gavrilov@student.fontys.nl/Claire/optuna_hpo_results_with_metrics_with_outliers.csv\"\n",
    "file_path3 = \"/Workspace/Users/n.gavrilov@student.fontys.nl/Claire/trajectory_hpo_results_with_metrics_with_outliers.csv\"\n",
    "file_path4 = \"/Workspace/Users/n.gavrilov@student.fontys.nl/Claire/afi_hpo_results_with_metrics_with_outliers.csv\"\n",
    "\n",
    "random_search_outliers = pd.read_csv(file_path1)\n",
    "optuna_outliers = pd.read_csv(file_path2)\n",
    "trajectory_otliers = pd.read_csv(file_path3)\n",
    "afi_outliers = pd.read_csv(file_path4)"
   ]
  },
  {
   "cell_type": "code",
   "execution_count": 0,
   "metadata": {
    "application/vnd.databricks.v1+cell": {
     "cellMetadata": {
      "byteLimit": 2048000,
      "rowLimit": 10000
     },
     "inputWidgets": {},
     "nuid": "e1fee70f-1244-4ffa-928a-671904880055",
     "showTitle": false,
     "tableResultSettingsMap": {},
     "title": ""
    }
   },
   "outputs": [
    {
     "output_type": "stream",
     "name": "stdout",
     "output_type": "stream",
     "text": [
      "Random Search Preprocessed Data:\n                  trainer  ... combined_performance_score\n0  TrainerAverageLastYear  ...                  -0.021403\n1  TrainerAverageLastYear  ...                   0.181496\n2  TrainerAverageLastYear  ...                  -0.324713\n3  TrainerAverageLastYear  ...                  -0.031840\n4  TrainerAverageLastYear  ...                  -0.319680\n\n[5 rows x 9 columns]\n\nTrajectory HPO Preprocessed Data:\n                  trainer  ... combined_performance_score\n0  TrainerAverageLastYear  ...                  -0.021403\n1  TrainerAverageLastYear  ...                   0.181496\n2  TrainerAverageLastYear  ...                  -0.330405\n3  TrainerAverageLastYear  ...                  -0.031840\n4  TrainerAverageLastYear  ...                  -0.319680\n\n[5 rows x 9 columns]\n\nOptuna HPO Preprocessed Data:\n                  trainer  ... combined_performance_score\n0  TrainerAverageLastYear  ...                   0.683779\n1  TrainerAverageLastYear  ...                   1.427119\n2  TrainerAverageLastYear  ...                   0.688542\n3  TrainerAverageLastYear  ...                   1.078605\n4  TrainerAverageLastYear  ...                   0.709557\n\n[5 rows x 9 columns]\n\nAFI HPO Preprocessed Data:\n                  trainer  ... combined_performance_score\n0  TrainerAverageLastYear  ...                  -0.022702\n1  TrainerAverageLastYear  ...                  -0.022697\n2  TrainerAverageLastYear  ...                  -0.022697\n3  TrainerAverageLastYear  ...                  -0.022697\n4  TrainerAverageLastYear  ...                  -0.022702\n\n[5 rows x 9 columns]\n"
     ]
    },
    {
     "output_type": "stream",
     "name": "stderr",
     "output_type": "stream",
     "text": [
      "/root/.ipykernel/1837/command-6154121983180854-3586689136:30: SettingWithCopyWarning: \nA value is trying to be set on a copy of a slice from a DataFrame.\nTry using .loc[row_indexer,col_indexer] = value instead\n\nSee the caveats in the documentation: https://pandas.pydata.org/pandas-docs/stable/user_guide/indexing.html#returning-a-view-versus-a-copy\n  df[col] = None\n"
     ]
    }
   ],
   "source": [
    "# Function to preprocess each dataset\n",
    "def preprocess_hpo_data(df):\n",
    "    \"\"\"\n",
    "    Preprocess HPO dataset by:\n",
    "    1. Standardizing column names.\n",
    "    2. Dropping rows with null values.\n",
    "    3. Ensuring consistent column structure.\n",
    "    \n",
    "    Args:\n",
    "        df (pd.DataFrame): The HPO results DataFrame.\n",
    "\n",
    "    Returns:\n",
    "        pd.DataFrame: Preprocessed DataFrame.\n",
    "    \"\"\"\n",
    "    # Standardize column names: lowercase and strip whitespace\n",
    "    df.columns = df.columns.str.strip().str.lower()\n",
    "\n",
    "    # Drop rows with null values\n",
    "    df = df.dropna()\n",
    "\n",
    "    # Ensure consistent column structure\n",
    "    expected_columns = [\n",
    "        'trainer', 'dataset', 'best_hyperparameters', 'best_rmse', 'mae', 'r2',\n",
    "        'total_time', 'average_trial_time', 'combined_performance_score'\n",
    "    ]\n",
    "    missing_columns = [col for col in expected_columns if col not in df.columns]\n",
    "\n",
    "    # If any columns are missing, add them with default values (e.g., NaN)\n",
    "    for col in missing_columns:\n",
    "        df[col] = None\n",
    "\n",
    "    # Retain only the expected columns in the defined order\n",
    "    df = df[expected_columns]\n",
    "\n",
    "    return df\n",
    "\n",
    "# Preprocess each dataset\n",
    "random_search = preprocess_hpo_data(random_search)\n",
    "trajectory = preprocess_hpo_data(trajectory)\n",
    "optuna = preprocess_hpo_data(optuna)\n",
    "afi = preprocess_hpo_data(afi)\n",
    "\n",
    "# Display the first few rows of each preprocessed DataFrame to confirm consistency\n",
    "print(\"Random Search Preprocessed Data:\")\n",
    "print(random_search.head())\n",
    "\n",
    "print(\"\\nTrajectory HPO Preprocessed Data:\")\n",
    "print(trajectory.head())\n",
    "\n",
    "print(\"\\nOptuna HPO Preprocessed Data:\")\n",
    "print(optuna.head())\n",
    "\n",
    "print(\"\\nAFI HPO Preprocessed Data:\")\n",
    "print(afi.head())\n",
    "\n"
   ]
  },
  {
   "cell_type": "code",
   "execution_count": 0,
   "metadata": {
    "application/vnd.databricks.v1+cell": {
     "cellMetadata": {
      "byteLimit": 2048000,
      "rowLimit": 10000
     },
     "inputWidgets": {},
     "nuid": "d1fec1c5-d7ba-4158-a5ab-fe1d8e4e186b",
     "showTitle": false,
     "tableResultSettingsMap": {},
     "title": ""
    }
   },
   "outputs": [
    {
     "output_type": "stream",
     "name": "stdout",
     "output_type": "stream",
     "text": [
      "Random Search Preprocessed Data:\n                  trainer  ... combined_performance_score\n0  TrainerAverageLastYear  ...                   0.380379\n1  TrainerAverageLastYear  ...                   0.900277\n2  TrainerAverageLastYear  ...                   1.708189\n3  TrainerAverageLastYear  ...                   1.041918\n4  TrainerAverageLastYear  ...                   1.237138\n\n[5 rows x 9 columns]\n\nTrajectory HPO Preprocessed Data:\n                  trainer  ... combined_performance_score\n0  TrainerAverageLastYear  ...                   0.065075\n1  TrainerAverageLastYear  ...                  -0.009312\n2  TrainerAverageLastYear  ...                  -0.032909\n3  TrainerAverageLastYear  ...                  -0.143900\n4  TrainerAverageLastYear  ...                  -0.041781\n\n[5 rows x 9 columns]\n\nOptuna HPO Preprocessed Data:\n                  trainer  ... combined_performance_score\n0  TrainerAverageLastYear  ...                   0.415197\n1  TrainerAverageLastYear  ...                   0.698040\n2  TrainerAverageLastYear  ...                   1.118783\n3  TrainerAverageLastYear  ...                   0.935652\n4  TrainerAverageLastYear  ...                   0.906511\n\n[5 rows x 9 columns]\n\nAFI HPO Preprocessed Data:\n                  trainer  ... combined_performance_score\n0  TrainerAverageLastYear  ...                   0.063493\n1  TrainerAverageLastYear  ...                   0.063493\n2  TrainerAverageLastYear  ...                   0.070671\n3  TrainerAverageLastYear  ...                   0.063493\n4  TrainerAverageLastYear  ...                   0.063493\n\n[5 rows x 9 columns]\n"
     ]
    }
   ],
   "source": [
    "\n",
    "\n",
    "# Preprocess each dataset\n",
    "random_search_outliers = preprocess_hpo_data(random_search_outliers)\n",
    "trajectory_outliers = preprocess_hpo_data(trajectory_otliers)\n",
    "optuna_outliers = preprocess_hpo_data(optuna_outliers)\n",
    "afi_outliers = preprocess_hpo_data(afi_outliers)\n",
    "\n",
    "# Display the first few rows of each preprocessed DataFrame to confirm consistency\n",
    "print(\"Random Search Preprocessed Data:\")\n",
    "print(random_search_outliers.head())\n",
    "\n",
    "print(\"\\nTrajectory HPO Preprocessed Data:\")\n",
    "print(trajectory_outliers.head())\n",
    "\n",
    "print(\"\\nOptuna HPO Preprocessed Data:\")\n",
    "print(optuna_outliers.head())\n",
    "\n",
    "print(\"\\nAFI HPO Preprocessed Data:\")\n",
    "print(afi_outliers.head())"
   ]
  },
  {
   "cell_type": "code",
   "execution_count": 0,
   "metadata": {
    "application/vnd.databricks.v1+cell": {
     "cellMetadata": {
      "byteLimit": 2048000,
      "rowLimit": 10000
     },
     "inputWidgets": {},
     "nuid": "b429e843-5ee7-4a5a-986e-1d19d7ef59e5",
     "showTitle": false,
     "tableResultSettingsMap": {},
     "title": ""
    }
   },
   "outputs": [
    {
     "output_type": "stream",
     "name": "stdout",
     "output_type": "stream",
     "text": [
      "Random Search Summary:\n                      trainer  ...         method\n0      TrainerAverageLastYear  ...  Random Search\n1         TrainerDecisionTree  ...  Random Search\n2  TrainerKNeighborsRegressor  ...  Random Search\n3     TrainerMajoritySelector  ...  Random Search\n4        TrainerMovingAverage  ...  Random Search\n\n[5 rows x 12 columns]\n\nTrajectory HPO Summary:\n                      trainer  ...          method\n0      TrainerAverageLastYear  ...  Trajectory HPO\n1         TrainerDecisionTree  ...  Trajectory HPO\n2  TrainerKNeighborsRegressor  ...  Trajectory HPO\n3     TrainerMajoritySelector  ...  Trajectory HPO\n4       TrainerValueLastYears  ...  Trajectory HPO\n\n[5 rows x 14 columns]\n\nOptuna HPO Summary:\n                      trainer  ...      method\n0      TrainerAverageLastYear  ...  Optuna HPO\n1         TrainerDecisionTree  ...  Optuna HPO\n2  TrainerKNeighborsRegressor  ...  Optuna HPO\n3     TrainerMajoritySelector  ...  Optuna HPO\n4       TrainerValueLastYears  ...  Optuna HPO\n\n[5 rows x 14 columns]\n\nAFI HPO Summary:\n                   trainer  ...   method\n0   TrainerAverageLastYear  ...  AFI HPO\n1  TrainerMajoritySelector  ...  AFI HPO\n2     TrainerMovingAverage  ...  AFI HPO\n3    TrainerValueLastYears  ...  AFI HPO\n4    TrainerXGBoostPattern  ...  AFI HPO\n\n[5 rows x 14 columns]\n"
     ]
    },
    {
     "output_type": "stream",
     "name": "stderr",
     "output_type": "stream",
     "text": [
      "/root/.ipykernel/1837/command-6154121983180875-2371130055:13: FutureWarning: The default value of numeric_only in DataFrameGroupBy.mean is deprecated. In a future version, numeric_only will default to False. Either specify numeric_only or select only columns which should be valid for the function.\n  mean_stats = df.groupby('trainer').mean().add_suffix('_mean')\n/root/.ipykernel/1837/command-6154121983180875-2371130055:14: FutureWarning: The default value of numeric_only in DataFrameGroupBy.std is deprecated. In a future version, numeric_only will default to False. Either specify numeric_only or select only columns which should be valid for the function.\n  std_stats = df.groupby('trainer').std().add_suffix('_std')\n/root/.ipykernel/1837/command-6154121983180875-2371130055:13: FutureWarning: The default value of numeric_only in DataFrameGroupBy.mean is deprecated. In a future version, numeric_only will default to False. Either specify numeric_only or select only columns which should be valid for the function.\n  mean_stats = df.groupby('trainer').mean().add_suffix('_mean')\n/root/.ipykernel/1837/command-6154121983180875-2371130055:14: FutureWarning: The default value of numeric_only in DataFrameGroupBy.std is deprecated. In a future version, numeric_only will default to False. Either specify numeric_only or select only columns which should be valid for the function.\n  std_stats = df.groupby('trainer').std().add_suffix('_std')\n/root/.ipykernel/1837/command-6154121983180875-2371130055:13: FutureWarning: The default value of numeric_only in DataFrameGroupBy.mean is deprecated. In a future version, numeric_only will default to False. Either specify numeric_only or select only columns which should be valid for the function.\n  mean_stats = df.groupby('trainer').mean().add_suffix('_mean')\n/root/.ipykernel/1837/command-6154121983180875-2371130055:14: FutureWarning: The default value of numeric_only in DataFrameGroupBy.std is deprecated. In a future version, numeric_only will default to False. Either specify numeric_only or select only columns which should be valid for the function.\n  std_stats = df.groupby('trainer').std().add_suffix('_std')\n/root/.ipykernel/1837/command-6154121983180875-2371130055:13: FutureWarning: The default value of numeric_only in DataFrameGroupBy.mean is deprecated. In a future version, numeric_only will default to False. Either specify numeric_only or select only columns which should be valid for the function.\n  mean_stats = df.groupby('trainer').mean().add_suffix('_mean')\n/root/.ipykernel/1837/command-6154121983180875-2371130055:14: FutureWarning: The default value of numeric_only in DataFrameGroupBy.std is deprecated. In a future version, numeric_only will default to False. Either specify numeric_only or select only columns which should be valid for the function.\n  std_stats = df.groupby('trainer').std().add_suffix('_std')\n"
     ]
    }
   ],
   "source": [
    "# Function to create summary datasets\n",
    "def create_summary_dataset(df, method_name):\n",
    "    \"\"\"\n",
    "    Create a summary dataset with mean metrics for each trainer.\n",
    "\n",
    "    Args:\n",
    "        df (pd.DataFrame): The HPO results DataFrame.\n",
    "        method_name (str): The name of the HPO method.\n",
    "\n",
    "    Returns:\n",
    "        pd.DataFrame: Summary DataFrame.\n",
    "    \"\"\"\n",
    "    mean_stats = df.groupby('trainer').mean().add_suffix('_mean')\n",
    "    std_stats = df.groupby('trainer').std().add_suffix('_std')\n",
    "    summary = mean_stats.merge(std_stats, left_index=True, right_index=True).reset_index()\n",
    "    summary['method'] = method_name\n",
    "    return summary\n",
    "\n",
    "# Create summary datasets for each HPO method\n",
    "random_search_summary = create_summary_dataset(random_search, 'Random Search')\n",
    "trajectory_summary = create_summary_dataset(trajectory, 'Trajectory HPO')\n",
    "optuna_summary = create_summary_dataset(optuna, 'Optuna HPO')\n",
    "afi_summary = create_summary_dataset(afi, 'AFI HPO')\n",
    "\n",
    "# Display the first few rows of each summary dataset\n",
    "print(\"Random Search Summary:\")\n",
    "print(random_search_summary.head())\n",
    "\n",
    "print(\"\\nTrajectory HPO Summary:\")\n",
    "print(trajectory_summary.head())\n",
    "\n",
    "print(\"\\nOptuna HPO Summary:\")\n",
    "print(optuna_summary.head())\n",
    "\n",
    "print(\"\\nAFI HPO Summary:\")\n",
    "print(afi_summary.head())"
   ]
  },
  {
   "cell_type": "code",
   "execution_count": 0,
   "metadata": {
    "application/vnd.databricks.v1+cell": {
     "cellMetadata": {
      "byteLimit": 2048000,
      "rowLimit": 10000
     },
     "inputWidgets": {},
     "nuid": "ee9a55bb-4dde-4197-827a-91f9ccd5fd1e",
     "showTitle": false,
     "tableResultSettingsMap": {},
     "title": ""
    }
   },
   "outputs": [
    {
     "output_type": "display_data",
     "data": {
      "text/plain": [
       "\u001B[0;31m---------------------------------------------------------------------------\u001B[0m\n",
       "\u001B[0;31mKeyError\u001B[0m                                  Traceback (most recent call last)\n",
       "File \u001B[0;32m<command-7484323730515227>, line 2\u001B[0m\n",
       "\u001B[1;32m      1\u001B[0m \u001B[38;5;66;03m# Create summary datasets for each HPO method\u001B[39;00m\n",
       "\u001B[0;32m----> 2\u001B[0m random_search_outliers_summary \u001B[38;5;241m=\u001B[39m create_summary_dataset(random_search_outliers, \u001B[38;5;124m'\u001B[39m\u001B[38;5;124mRandom Search\u001B[39m\u001B[38;5;124m'\u001B[39m)\n",
       "\u001B[1;32m      3\u001B[0m trajectory_outliers_summary \u001B[38;5;241m=\u001B[39m create_summary_dataset(trajectory_outliers, \u001B[38;5;124m'\u001B[39m\u001B[38;5;124mTrajectory HPO\u001B[39m\u001B[38;5;124m'\u001B[39m)\n",
       "\u001B[1;32m      4\u001B[0m optuna_outliers_summary \u001B[38;5;241m=\u001B[39m create_summary_dataset(optuna_outliers, \u001B[38;5;124m'\u001B[39m\u001B[38;5;124mOptuna HPO\u001B[39m\u001B[38;5;124m'\u001B[39m)\n",
       "\n",
       "File \u001B[0;32m<command-6154121983180875>, line 13\u001B[0m, in \u001B[0;36mcreate_summary_dataset\u001B[0;34m(df, method_name)\u001B[0m\n",
       "\u001B[1;32m      2\u001B[0m \u001B[38;5;28;01mdef\u001B[39;00m \u001B[38;5;21mcreate_summary_dataset\u001B[39m(df, method_name):\n",
       "\u001B[1;32m      3\u001B[0m \u001B[38;5;250m    \u001B[39m\u001B[38;5;124;03m\"\"\"\u001B[39;00m\n",
       "\u001B[1;32m      4\u001B[0m \u001B[38;5;124;03m    Create a summary dataset with mean metrics for each trainer.\u001B[39;00m\n",
       "\u001B[1;32m      5\u001B[0m \n",
       "\u001B[0;32m   (...)\u001B[0m\n",
       "\u001B[1;32m     11\u001B[0m \u001B[38;5;124;03m        pd.DataFrame: Summary DataFrame.\u001B[39;00m\n",
       "\u001B[1;32m     12\u001B[0m \u001B[38;5;124;03m    \"\"\"\u001B[39;00m\n",
       "\u001B[0;32m---> 13\u001B[0m     mean_stats \u001B[38;5;241m=\u001B[39m df\u001B[38;5;241m.\u001B[39mgroupby(\u001B[38;5;124m'\u001B[39m\u001B[38;5;124mtrainer\u001B[39m\u001B[38;5;124m'\u001B[39m)\u001B[38;5;241m.\u001B[39mmean()\u001B[38;5;241m.\u001B[39madd_suffix(\u001B[38;5;124m'\u001B[39m\u001B[38;5;124m_mean\u001B[39m\u001B[38;5;124m'\u001B[39m)\n",
       "\u001B[1;32m     14\u001B[0m     std_stats \u001B[38;5;241m=\u001B[39m df\u001B[38;5;241m.\u001B[39mgroupby(\u001B[38;5;124m'\u001B[39m\u001B[38;5;124mtrainer\u001B[39m\u001B[38;5;124m'\u001B[39m)\u001B[38;5;241m.\u001B[39mstd()\u001B[38;5;241m.\u001B[39madd_suffix(\u001B[38;5;124m'\u001B[39m\u001B[38;5;124m_std\u001B[39m\u001B[38;5;124m'\u001B[39m)\n",
       "\u001B[1;32m     15\u001B[0m     summary \u001B[38;5;241m=\u001B[39m mean_stats\u001B[38;5;241m.\u001B[39mmerge(std_stats, left_index\u001B[38;5;241m=\u001B[39m\u001B[38;5;28;01mTrue\u001B[39;00m, right_index\u001B[38;5;241m=\u001B[39m\u001B[38;5;28;01mTrue\u001B[39;00m)\u001B[38;5;241m.\u001B[39mreset_index()\n",
       "\n",
       "File \u001B[0;32m/databricks/python/lib/python3.12/site-packages/pandas/core/frame.py:8402\u001B[0m, in \u001B[0;36mDataFrame.groupby\u001B[0;34m(self, by, axis, level, as_index, sort, group_keys, squeeze, observed, dropna)\u001B[0m\n",
       "\u001B[1;32m   8399\u001B[0m     \u001B[38;5;28;01mraise\u001B[39;00m \u001B[38;5;167;01mTypeError\u001B[39;00m(\u001B[38;5;124m\"\u001B[39m\u001B[38;5;124mYou have to supply one of \u001B[39m\u001B[38;5;124m'\u001B[39m\u001B[38;5;124mby\u001B[39m\u001B[38;5;124m'\u001B[39m\u001B[38;5;124m and \u001B[39m\u001B[38;5;124m'\u001B[39m\u001B[38;5;124mlevel\u001B[39m\u001B[38;5;124m'\u001B[39m\u001B[38;5;124m\"\u001B[39m)\n",
       "\u001B[1;32m   8400\u001B[0m axis \u001B[38;5;241m=\u001B[39m \u001B[38;5;28mself\u001B[39m\u001B[38;5;241m.\u001B[39m_get_axis_number(axis)\n",
       "\u001B[0;32m-> 8402\u001B[0m \u001B[38;5;28;01mreturn\u001B[39;00m DataFrameGroupBy(\n",
       "\u001B[1;32m   8403\u001B[0m     obj\u001B[38;5;241m=\u001B[39m\u001B[38;5;28mself\u001B[39m,\n",
       "\u001B[1;32m   8404\u001B[0m     keys\u001B[38;5;241m=\u001B[39mby,\n",
       "\u001B[1;32m   8405\u001B[0m     axis\u001B[38;5;241m=\u001B[39maxis,\n",
       "\u001B[1;32m   8406\u001B[0m     level\u001B[38;5;241m=\u001B[39mlevel,\n",
       "\u001B[1;32m   8407\u001B[0m     as_index\u001B[38;5;241m=\u001B[39mas_index,\n",
       "\u001B[1;32m   8408\u001B[0m     sort\u001B[38;5;241m=\u001B[39msort,\n",
       "\u001B[1;32m   8409\u001B[0m     group_keys\u001B[38;5;241m=\u001B[39mgroup_keys,\n",
       "\u001B[1;32m   8410\u001B[0m     squeeze\u001B[38;5;241m=\u001B[39msqueeze,\n",
       "\u001B[1;32m   8411\u001B[0m     observed\u001B[38;5;241m=\u001B[39mobserved,\n",
       "\u001B[1;32m   8412\u001B[0m     dropna\u001B[38;5;241m=\u001B[39mdropna,\n",
       "\u001B[1;32m   8413\u001B[0m )\n",
       "\n",
       "File \u001B[0;32m/databricks/python/lib/python3.12/site-packages/pandas/core/groupby/groupby.py:965\u001B[0m, in \u001B[0;36mGroupBy.__init__\u001B[0;34m(self, obj, keys, axis, level, grouper, exclusions, selection, as_index, sort, group_keys, squeeze, observed, mutated, dropna)\u001B[0m\n",
       "\u001B[1;32m    962\u001B[0m \u001B[38;5;28;01mif\u001B[39;00m grouper \u001B[38;5;129;01mis\u001B[39;00m \u001B[38;5;28;01mNone\u001B[39;00m:\n",
       "\u001B[1;32m    963\u001B[0m     \u001B[38;5;28;01mfrom\u001B[39;00m \u001B[38;5;21;01mpandas\u001B[39;00m\u001B[38;5;21;01m.\u001B[39;00m\u001B[38;5;21;01mcore\u001B[39;00m\u001B[38;5;21;01m.\u001B[39;00m\u001B[38;5;21;01mgroupby\u001B[39;00m\u001B[38;5;21;01m.\u001B[39;00m\u001B[38;5;21;01mgrouper\u001B[39;00m \u001B[38;5;28;01mimport\u001B[39;00m get_grouper\n",
       "\u001B[0;32m--> 965\u001B[0m     grouper, exclusions, obj \u001B[38;5;241m=\u001B[39m get_grouper(\n",
       "\u001B[1;32m    966\u001B[0m         obj,\n",
       "\u001B[1;32m    967\u001B[0m         keys,\n",
       "\u001B[1;32m    968\u001B[0m         axis\u001B[38;5;241m=\u001B[39maxis,\n",
       "\u001B[1;32m    969\u001B[0m         level\u001B[38;5;241m=\u001B[39mlevel,\n",
       "\u001B[1;32m    970\u001B[0m         sort\u001B[38;5;241m=\u001B[39msort,\n",
       "\u001B[1;32m    971\u001B[0m         observed\u001B[38;5;241m=\u001B[39mobserved,\n",
       "\u001B[1;32m    972\u001B[0m         mutated\u001B[38;5;241m=\u001B[39m\u001B[38;5;28mself\u001B[39m\u001B[38;5;241m.\u001B[39mmutated,\n",
       "\u001B[1;32m    973\u001B[0m         dropna\u001B[38;5;241m=\u001B[39m\u001B[38;5;28mself\u001B[39m\u001B[38;5;241m.\u001B[39mdropna,\n",
       "\u001B[1;32m    974\u001B[0m     )\n",
       "\u001B[1;32m    976\u001B[0m \u001B[38;5;28mself\u001B[39m\u001B[38;5;241m.\u001B[39mobj \u001B[38;5;241m=\u001B[39m obj\n",
       "\u001B[1;32m    977\u001B[0m \u001B[38;5;28mself\u001B[39m\u001B[38;5;241m.\u001B[39maxis \u001B[38;5;241m=\u001B[39m obj\u001B[38;5;241m.\u001B[39m_get_axis_number(axis)\n",
       "\n",
       "File \u001B[0;32m/databricks/python/lib/python3.12/site-packages/pandas/core/groupby/grouper.py:888\u001B[0m, in \u001B[0;36mget_grouper\u001B[0;34m(obj, key, axis, level, sort, observed, mutated, validate, dropna)\u001B[0m\n",
       "\u001B[1;32m    886\u001B[0m         in_axis, level, gpr \u001B[38;5;241m=\u001B[39m \u001B[38;5;28;01mFalse\u001B[39;00m, gpr, \u001B[38;5;28;01mNone\u001B[39;00m\n",
       "\u001B[1;32m    887\u001B[0m     \u001B[38;5;28;01melse\u001B[39;00m:\n",
       "\u001B[0;32m--> 888\u001B[0m         \u001B[38;5;28;01mraise\u001B[39;00m \u001B[38;5;167;01mKeyError\u001B[39;00m(gpr)\n",
       "\u001B[1;32m    889\u001B[0m \u001B[38;5;28;01melif\u001B[39;00m \u001B[38;5;28misinstance\u001B[39m(gpr, Grouper) \u001B[38;5;129;01mand\u001B[39;00m gpr\u001B[38;5;241m.\u001B[39mkey \u001B[38;5;129;01mis\u001B[39;00m \u001B[38;5;129;01mnot\u001B[39;00m \u001B[38;5;28;01mNone\u001B[39;00m:\n",
       "\u001B[1;32m    890\u001B[0m     \u001B[38;5;66;03m# Add key to exclusions\u001B[39;00m\n",
       "\u001B[1;32m    891\u001B[0m     exclusions\u001B[38;5;241m.\u001B[39madd(gpr\u001B[38;5;241m.\u001B[39mkey)\n",
       "\n",
       "\u001B[0;31mKeyError\u001B[0m: 'trainer'"
      ]
     },
     "metadata": {
      "application/vnd.databricks.v1+output": {
       "addedWidgets": {},
       "arguments": {},
       "datasetInfos": [],
       "jupyterProps": {
        "ename": "KeyError",
        "evalue": "'trainer'"
       },
       "metadata": {
        "errorSummary": "<span class='ansi-red-fg'>KeyError</span>: 'trainer'"
       },
       "removedWidgets": [],
       "sqlProps": null,
       "stackFrames": [
        "\u001B[0;31m---------------------------------------------------------------------------\u001B[0m",
        "\u001B[0;31mKeyError\u001B[0m                                  Traceback (most recent call last)",
        "File \u001B[0;32m<command-7484323730515227>, line 2\u001B[0m\n\u001B[1;32m      1\u001B[0m \u001B[38;5;66;03m# Create summary datasets for each HPO method\u001B[39;00m\n\u001B[0;32m----> 2\u001B[0m random_search_outliers_summary \u001B[38;5;241m=\u001B[39m create_summary_dataset(random_search_outliers, \u001B[38;5;124m'\u001B[39m\u001B[38;5;124mRandom Search\u001B[39m\u001B[38;5;124m'\u001B[39m)\n\u001B[1;32m      3\u001B[0m trajectory_outliers_summary \u001B[38;5;241m=\u001B[39m create_summary_dataset(trajectory_outliers, \u001B[38;5;124m'\u001B[39m\u001B[38;5;124mTrajectory HPO\u001B[39m\u001B[38;5;124m'\u001B[39m)\n\u001B[1;32m      4\u001B[0m optuna_outliers_summary \u001B[38;5;241m=\u001B[39m create_summary_dataset(optuna_outliers, \u001B[38;5;124m'\u001B[39m\u001B[38;5;124mOptuna HPO\u001B[39m\u001B[38;5;124m'\u001B[39m)\n",
        "File \u001B[0;32m<command-6154121983180875>, line 13\u001B[0m, in \u001B[0;36mcreate_summary_dataset\u001B[0;34m(df, method_name)\u001B[0m\n\u001B[1;32m      2\u001B[0m \u001B[38;5;28;01mdef\u001B[39;00m \u001B[38;5;21mcreate_summary_dataset\u001B[39m(df, method_name):\n\u001B[1;32m      3\u001B[0m \u001B[38;5;250m    \u001B[39m\u001B[38;5;124;03m\"\"\"\u001B[39;00m\n\u001B[1;32m      4\u001B[0m \u001B[38;5;124;03m    Create a summary dataset with mean metrics for each trainer.\u001B[39;00m\n\u001B[1;32m      5\u001B[0m \n\u001B[0;32m   (...)\u001B[0m\n\u001B[1;32m     11\u001B[0m \u001B[38;5;124;03m        pd.DataFrame: Summary DataFrame.\u001B[39;00m\n\u001B[1;32m     12\u001B[0m \u001B[38;5;124;03m    \"\"\"\u001B[39;00m\n\u001B[0;32m---> 13\u001B[0m     mean_stats \u001B[38;5;241m=\u001B[39m df\u001B[38;5;241m.\u001B[39mgroupby(\u001B[38;5;124m'\u001B[39m\u001B[38;5;124mtrainer\u001B[39m\u001B[38;5;124m'\u001B[39m)\u001B[38;5;241m.\u001B[39mmean()\u001B[38;5;241m.\u001B[39madd_suffix(\u001B[38;5;124m'\u001B[39m\u001B[38;5;124m_mean\u001B[39m\u001B[38;5;124m'\u001B[39m)\n\u001B[1;32m     14\u001B[0m     std_stats \u001B[38;5;241m=\u001B[39m df\u001B[38;5;241m.\u001B[39mgroupby(\u001B[38;5;124m'\u001B[39m\u001B[38;5;124mtrainer\u001B[39m\u001B[38;5;124m'\u001B[39m)\u001B[38;5;241m.\u001B[39mstd()\u001B[38;5;241m.\u001B[39madd_suffix(\u001B[38;5;124m'\u001B[39m\u001B[38;5;124m_std\u001B[39m\u001B[38;5;124m'\u001B[39m)\n\u001B[1;32m     15\u001B[0m     summary \u001B[38;5;241m=\u001B[39m mean_stats\u001B[38;5;241m.\u001B[39mmerge(std_stats, left_index\u001B[38;5;241m=\u001B[39m\u001B[38;5;28;01mTrue\u001B[39;00m, right_index\u001B[38;5;241m=\u001B[39m\u001B[38;5;28;01mTrue\u001B[39;00m)\u001B[38;5;241m.\u001B[39mreset_index()\n",
        "File \u001B[0;32m/databricks/python/lib/python3.12/site-packages/pandas/core/frame.py:8402\u001B[0m, in \u001B[0;36mDataFrame.groupby\u001B[0;34m(self, by, axis, level, as_index, sort, group_keys, squeeze, observed, dropna)\u001B[0m\n\u001B[1;32m   8399\u001B[0m     \u001B[38;5;28;01mraise\u001B[39;00m \u001B[38;5;167;01mTypeError\u001B[39;00m(\u001B[38;5;124m\"\u001B[39m\u001B[38;5;124mYou have to supply one of \u001B[39m\u001B[38;5;124m'\u001B[39m\u001B[38;5;124mby\u001B[39m\u001B[38;5;124m'\u001B[39m\u001B[38;5;124m and \u001B[39m\u001B[38;5;124m'\u001B[39m\u001B[38;5;124mlevel\u001B[39m\u001B[38;5;124m'\u001B[39m\u001B[38;5;124m\"\u001B[39m)\n\u001B[1;32m   8400\u001B[0m axis \u001B[38;5;241m=\u001B[39m \u001B[38;5;28mself\u001B[39m\u001B[38;5;241m.\u001B[39m_get_axis_number(axis)\n\u001B[0;32m-> 8402\u001B[0m \u001B[38;5;28;01mreturn\u001B[39;00m DataFrameGroupBy(\n\u001B[1;32m   8403\u001B[0m     obj\u001B[38;5;241m=\u001B[39m\u001B[38;5;28mself\u001B[39m,\n\u001B[1;32m   8404\u001B[0m     keys\u001B[38;5;241m=\u001B[39mby,\n\u001B[1;32m   8405\u001B[0m     axis\u001B[38;5;241m=\u001B[39maxis,\n\u001B[1;32m   8406\u001B[0m     level\u001B[38;5;241m=\u001B[39mlevel,\n\u001B[1;32m   8407\u001B[0m     as_index\u001B[38;5;241m=\u001B[39mas_index,\n\u001B[1;32m   8408\u001B[0m     sort\u001B[38;5;241m=\u001B[39msort,\n\u001B[1;32m   8409\u001B[0m     group_keys\u001B[38;5;241m=\u001B[39mgroup_keys,\n\u001B[1;32m   8410\u001B[0m     squeeze\u001B[38;5;241m=\u001B[39msqueeze,\n\u001B[1;32m   8411\u001B[0m     observed\u001B[38;5;241m=\u001B[39mobserved,\n\u001B[1;32m   8412\u001B[0m     dropna\u001B[38;5;241m=\u001B[39mdropna,\n\u001B[1;32m   8413\u001B[0m )\n",
        "File \u001B[0;32m/databricks/python/lib/python3.12/site-packages/pandas/core/groupby/groupby.py:965\u001B[0m, in \u001B[0;36mGroupBy.__init__\u001B[0;34m(self, obj, keys, axis, level, grouper, exclusions, selection, as_index, sort, group_keys, squeeze, observed, mutated, dropna)\u001B[0m\n\u001B[1;32m    962\u001B[0m \u001B[38;5;28;01mif\u001B[39;00m grouper \u001B[38;5;129;01mis\u001B[39;00m \u001B[38;5;28;01mNone\u001B[39;00m:\n\u001B[1;32m    963\u001B[0m     \u001B[38;5;28;01mfrom\u001B[39;00m \u001B[38;5;21;01mpandas\u001B[39;00m\u001B[38;5;21;01m.\u001B[39;00m\u001B[38;5;21;01mcore\u001B[39;00m\u001B[38;5;21;01m.\u001B[39;00m\u001B[38;5;21;01mgroupby\u001B[39;00m\u001B[38;5;21;01m.\u001B[39;00m\u001B[38;5;21;01mgrouper\u001B[39;00m \u001B[38;5;28;01mimport\u001B[39;00m get_grouper\n\u001B[0;32m--> 965\u001B[0m     grouper, exclusions, obj \u001B[38;5;241m=\u001B[39m get_grouper(\n\u001B[1;32m    966\u001B[0m         obj,\n\u001B[1;32m    967\u001B[0m         keys,\n\u001B[1;32m    968\u001B[0m         axis\u001B[38;5;241m=\u001B[39maxis,\n\u001B[1;32m    969\u001B[0m         level\u001B[38;5;241m=\u001B[39mlevel,\n\u001B[1;32m    970\u001B[0m         sort\u001B[38;5;241m=\u001B[39msort,\n\u001B[1;32m    971\u001B[0m         observed\u001B[38;5;241m=\u001B[39mobserved,\n\u001B[1;32m    972\u001B[0m         mutated\u001B[38;5;241m=\u001B[39m\u001B[38;5;28mself\u001B[39m\u001B[38;5;241m.\u001B[39mmutated,\n\u001B[1;32m    973\u001B[0m         dropna\u001B[38;5;241m=\u001B[39m\u001B[38;5;28mself\u001B[39m\u001B[38;5;241m.\u001B[39mdropna,\n\u001B[1;32m    974\u001B[0m     )\n\u001B[1;32m    976\u001B[0m \u001B[38;5;28mself\u001B[39m\u001B[38;5;241m.\u001B[39mobj \u001B[38;5;241m=\u001B[39m obj\n\u001B[1;32m    977\u001B[0m \u001B[38;5;28mself\u001B[39m\u001B[38;5;241m.\u001B[39maxis \u001B[38;5;241m=\u001B[39m obj\u001B[38;5;241m.\u001B[39m_get_axis_number(axis)\n",
        "File \u001B[0;32m/databricks/python/lib/python3.12/site-packages/pandas/core/groupby/grouper.py:888\u001B[0m, in \u001B[0;36mget_grouper\u001B[0;34m(obj, key, axis, level, sort, observed, mutated, validate, dropna)\u001B[0m\n\u001B[1;32m    886\u001B[0m         in_axis, level, gpr \u001B[38;5;241m=\u001B[39m \u001B[38;5;28;01mFalse\u001B[39;00m, gpr, \u001B[38;5;28;01mNone\u001B[39;00m\n\u001B[1;32m    887\u001B[0m     \u001B[38;5;28;01melse\u001B[39;00m:\n\u001B[0;32m--> 888\u001B[0m         \u001B[38;5;28;01mraise\u001B[39;00m \u001B[38;5;167;01mKeyError\u001B[39;00m(gpr)\n\u001B[1;32m    889\u001B[0m \u001B[38;5;28;01melif\u001B[39;00m \u001B[38;5;28misinstance\u001B[39m(gpr, Grouper) \u001B[38;5;129;01mand\u001B[39;00m gpr\u001B[38;5;241m.\u001B[39mkey \u001B[38;5;129;01mis\u001B[39;00m \u001B[38;5;129;01mnot\u001B[39;00m \u001B[38;5;28;01mNone\u001B[39;00m:\n\u001B[1;32m    890\u001B[0m     \u001B[38;5;66;03m# Add key to exclusions\u001B[39;00m\n\u001B[1;32m    891\u001B[0m     exclusions\u001B[38;5;241m.\u001B[39madd(gpr\u001B[38;5;241m.\u001B[39mkey)\n",
        "\u001B[0;31mKeyError\u001B[0m: 'trainer'"
       ],
       "type": "baseError"
      }
     },
     "output_type": "display_data"
    }
   ],
   "source": [
    "# Create summary datasets for each HPO method\n",
    "random_search_outliers_summary = create_summary_dataset(random_search_outliers, 'Random Search')\n",
    "trajectory_outliers_summary = create_summary_dataset(trajectory_outliers, 'Trajectory HPO')\n",
    "optuna_outliers_summary = create_summary_dataset(optuna_outliers, 'Optuna HPO')\n",
    "afi_outliers_summary = create_summary_dataset(afi_outliers, 'AFI HPO')\n",
    "\n",
    "# Display the first few rows of each summary dataset\n",
    "print(\"Random Search Summary:\")\n",
    "print(random_search_summary.head())\n",
    "\n",
    "print(\"\\nTrajectory HPO Summary:\")\n",
    "print(trajectory_summary.head())\n",
    "\n",
    "print(\"\\nOptuna HPO Summary:\")\n",
    "print(optuna_summary.head())\n",
    "\n",
    "print(\"\\nAFI HPO Summary:\")\n",
    "print(afi_summary.head())"
   ]
  },
  {
   "cell_type": "code",
   "execution_count": 0,
   "metadata": {
    "application/vnd.databricks.v1+cell": {
     "cellMetadata": {
      "byteLimit": 2048000,
      "rowLimit": 10000
     },
     "inputWidgets": {},
     "nuid": "4eee2540-62db-4f96-8c1d-ab1ee6e22f82",
     "showTitle": false,
     "tableResultSettingsMap": {},
     "title": ""
    }
   },
   "outputs": [
    {
     "output_type": "display_data",
     "data": {
      "text/plain": [
       "com.databricks.backend.common.rpc.CommandCancelledException\n",
       "\tat com.databricks.spark.chauffeur.ExecContextState.cancel(ExecContextState.scala:431)\n",
       "\tat com.databricks.spark.chauffeur.ExecutionContextManagerV1.cancelExecution(ExecutionContextManagerV1.scala:458)\n",
       "\tat com.databricks.spark.chauffeur.ChauffeurState.$anonfun$process$1(ChauffeurState.scala:537)\n",
       "\tat com.databricks.logging.UsageLogging.$anonfun$recordOperation$1(UsageLogging.scala:508)\n",
       "\tat com.databricks.logging.UsageLogging.executeThunkAndCaptureResultTags$1(UsageLogging.scala:613)\n",
       "\tat com.databricks.logging.UsageLogging.$anonfun$recordOperationWithResultTags$4(UsageLogging.scala:636)\n",
       "\tat com.databricks.logging.AttributionContextTracing.$anonfun$withAttributionContext$1(AttributionContextTracing.scala:48)\n",
       "\tat com.databricks.logging.AttributionContext$.$anonfun$withValue$1(AttributionContext.scala:271)\n",
       "\tat scala.util.DynamicVariable.withValue(DynamicVariable.scala:62)\n",
       "\tat com.databricks.logging.AttributionContext$.withValue(AttributionContext.scala:267)\n",
       "\tat com.databricks.logging.AttributionContextTracing.withAttributionContext(AttributionContextTracing.scala:46)\n",
       "\tat com.databricks.logging.AttributionContextTracing.withAttributionContext$(AttributionContextTracing.scala:43)\n",
       "\tat com.databricks.spark.chauffeur.ChauffeurState.withAttributionContext(ChauffeurState.scala:52)\n",
       "\tat com.databricks.logging.AttributionContextTracing.withAttributionTags(AttributionContextTracing.scala:95)\n",
       "\tat com.databricks.logging.AttributionContextTracing.withAttributionTags$(AttributionContextTracing.scala:76)\n",
       "\tat com.databricks.spark.chauffeur.ChauffeurState.withAttributionTags(ChauffeurState.scala:52)\n",
       "\tat com.databricks.logging.UsageLogging.recordOperationWithResultTags(UsageLogging.scala:608)\n",
       "\tat com.databricks.logging.UsageLogging.recordOperationWithResultTags$(UsageLogging.scala:517)\n",
       "\tat com.databricks.spark.chauffeur.ChauffeurState.recordOperationWithResultTags(ChauffeurState.scala:52)\n",
       "\tat com.databricks.logging.UsageLogging.recordOperation(UsageLogging.scala:509)\n",
       "\tat com.databricks.logging.UsageLogging.recordOperation$(UsageLogging.scala:475)\n",
       "\tat com.databricks.spark.chauffeur.ChauffeurState.recordOperation(ChauffeurState.scala:52)\n",
       "\tat com.databricks.spark.chauffeur.ChauffeurState.process(ChauffeurState.scala:515)\n",
       "\tat com.databricks.spark.chauffeur.Chauffeur$$anon$1$$anonfun$receive$1.handleDriverRequest$1(Chauffeur.scala:850)\n",
       "\tat com.databricks.spark.chauffeur.Chauffeur$$anon$1$$anonfun$receive$1.$anonfun$applyOrElse$5(Chauffeur.scala:876)\n",
       "\tat com.databricks.logging.UsageLogging.executeThunkAndCaptureResultTags$1(UsageLogging.scala:613)\n",
       "\tat com.databricks.logging.UsageLogging.$anonfun$recordOperationWithResultTags$4(UsageLogging.scala:636)\n",
       "\tat com.databricks.logging.AttributionContextTracing.$anonfun$withAttributionContext$1(AttributionContextTracing.scala:48)\n",
       "\tat com.databricks.logging.AttributionContext$.$anonfun$withValue$1(AttributionContext.scala:271)\n",
       "\tat scala.util.DynamicVariable.withValue(DynamicVariable.scala:62)\n",
       "\tat com.databricks.logging.AttributionContext$.withValue(AttributionContext.scala:267)\n",
       "\tat com.databricks.logging.AttributionContextTracing.withAttributionContext(AttributionContextTracing.scala:46)\n",
       "\tat com.databricks.logging.AttributionContextTracing.withAttributionContext$(AttributionContextTracing.scala:43)\n",
       "\tat com.databricks.rpc.ServerBackend.withAttributionContext(ServerBackend.scala:22)\n",
       "\tat com.databricks.logging.AttributionContextTracing.withAttributionTags(AttributionContextTracing.scala:95)\n",
       "\tat com.databricks.logging.AttributionContextTracing.withAttributionTags$(AttributionContextTracing.scala:76)\n",
       "\tat com.databricks.rpc.ServerBackend.withAttributionTags(ServerBackend.scala:22)\n",
       "\tat com.databricks.logging.UsageLogging.recordOperationWithResultTags(UsageLogging.scala:608)\n",
       "\tat com.databricks.logging.UsageLogging.recordOperationWithResultTags$(UsageLogging.scala:517)\n",
       "\tat com.databricks.rpc.ServerBackend.recordOperationWithResultTags(ServerBackend.scala:22)\n",
       "\tat com.databricks.spark.chauffeur.Chauffeur$$anon$1$$anonfun$receive$1.handleDriverRequestWithUsageLogging$1(Chauffeur.scala:875)\n",
       "\tat com.databricks.spark.chauffeur.Chauffeur$$anon$1$$anonfun$receive$1.applyOrElse(Chauffeur.scala:930)\n",
       "\tat com.databricks.spark.chauffeur.Chauffeur$$anon$1$$anonfun$receive$1.applyOrElse(Chauffeur.scala:723)\n",
       "\tat com.databricks.rpc.ServerBackend.$anonfun$internalReceive0$2(ServerBackend.scala:174)\n",
       "\tat com.databricks.rpc.ServerBackend$$anonfun$commonReceive$1.applyOrElse(ServerBackend.scala:200)\n",
       "\tat com.databricks.rpc.ServerBackend$$anonfun$commonReceive$1.applyOrElse(ServerBackend.scala:200)\n",
       "\tat com.databricks.rpc.ServerBackend.internalReceive0(ServerBackend.scala:171)\n",
       "\tat com.databricks.rpc.ServerBackend.$anonfun$internalReceive$1(ServerBackend.scala:147)\n",
       "\tat com.databricks.logging.UsageLogging.$anonfun$recordOperation$1(UsageLogging.scala:508)\n",
       "\tat com.databricks.logging.UsageLogging.executeThunkAndCaptureResultTags$1(UsageLogging.scala:613)\n",
       "\tat com.databricks.logging.UsageLogging.$anonfun$recordOperationWithResultTags$4(UsageLogging.scala:636)\n",
       "\tat com.databricks.logging.AttributionContextTracing.$anonfun$withAttributionContext$1(AttributionContextTracing.scala:48)\n",
       "\tat com.databricks.logging.AttributionContext$.$anonfun$withValue$1(AttributionContext.scala:271)\n",
       "\tat scala.util.DynamicVariable.withValue(DynamicVariable.scala:62)\n",
       "\tat com.databricks.logging.AttributionContext$.withValue(AttributionContext.scala:267)\n",
       "\tat com.databricks.logging.AttributionContextTracing.withAttributionContext(AttributionContextTracing.scala:46)\n",
       "\tat com.databricks.logging.AttributionContextTracing.withAttributionContext$(AttributionContextTracing.scala:43)\n",
       "\tat com.databricks.rpc.ServerBackend.withAttributionContext(ServerBackend.scala:22)\n",
       "\tat com.databricks.logging.AttributionContextTracing.withAttributionTags(AttributionContextTracing.scala:95)\n",
       "\tat com.databricks.logging.AttributionContextTracing.withAttributionTags$(AttributionContextTracing.scala:76)\n",
       "\tat com.databricks.rpc.ServerBackend.withAttributionTags(ServerBackend.scala:22)\n",
       "\tat com.databricks.logging.UsageLogging.recordOperationWithResultTags(UsageLogging.scala:608)\n",
       "\tat com.databricks.logging.UsageLogging.recordOperationWithResultTags$(UsageLogging.scala:517)\n",
       "\tat com.databricks.rpc.ServerBackend.recordOperationWithResultTags(ServerBackend.scala:22)\n",
       "\tat com.databricks.logging.UsageLogging.recordOperation(UsageLogging.scala:509)\n",
       "\tat com.databricks.logging.UsageLogging.recordOperation$(UsageLogging.scala:475)\n",
       "\tat com.databricks.rpc.ServerBackend.recordOperation(ServerBackend.scala:22)\n",
       "\tat com.databricks.rpc.ServerBackend.internalReceive(ServerBackend.scala:146)\n",
       "\tat com.databricks.rpc.JettyServer$RequestManager.handleRPC(JettyServer.scala:1025)\n",
       "\tat com.databricks.rpc.JettyServer$RequestManager.handleRequestAndRespond(JettyServer.scala:946)\n",
       "\tat com.databricks.rpc.JettyServer$RequestManager.$anonfun$handleHttp$6(JettyServer.scala:547)\n",
       "\tat com.databricks.rpc.JettyServer$RequestManager.$anonfun$handleHttp$6$adapted(JettyServer.scala:516)\n",
       "\tat com.databricks.logging.activity.ActivityContextFactory$.$anonfun$withActivityInternal$7(ActivityContextFactory.scala:638)\n",
       "\tat com.databricks.logging.AttributionContextTracing.$anonfun$withAttributionContext$1(AttributionContextTracing.scala:48)\n",
       "\tat com.databricks.logging.AttributionContext$.$anonfun$withValue$1(AttributionContext.scala:271)\n",
       "\tat scala.util.DynamicVariable.withValue(DynamicVariable.scala:62)\n",
       "\tat com.databricks.logging.AttributionContext$.withValue(AttributionContext.scala:267)\n",
       "\tat com.databricks.logging.AttributionContextTracing.withAttributionContext(AttributionContextTracing.scala:46)\n",
       "\tat com.databricks.logging.AttributionContextTracing.withAttributionContext$(AttributionContextTracing.scala:43)\n",
       "\tat com.databricks.logging.activity.ActivityContextFactory$.withAttributionContext(ActivityContextFactory.scala:47)\n",
       "\tat com.databricks.logging.activity.ActivityContextFactory$.$anonfun$withActivityInternal$4(ActivityContextFactory.scala:638)\n",
       "\tat com.databricks.context.integrity.IntegrityCheckContext$ThreadLocalStorage$.withValue(IntegrityCheckContext.scala:73)\n",
       "\tat com.databricks.logging.activity.ActivityContextFactory$.withActivityInternal(ActivityContextFactory.scala:616)\n",
       "\tat com.databricks.logging.activity.ActivityContextFactory$.withServiceRequestActivity(ActivityContextFactory.scala:238)\n",
       "\tat com.databricks.rpc.JettyServer$RequestManager.handleHttp(JettyServer.scala:516)\n",
       "\tat com.databricks.rpc.JettyServer$RequestManager.doPost(JettyServer.scala:406)\n",
       "\tat javax.servlet.http.HttpServlet.service(HttpServlet.java:665)\n",
       "\tat com.databricks.rpc.HttpServletWithPatch.service(HttpServletWithPatch.scala:33)\n",
       "\tat javax.servlet.http.HttpServlet.service(HttpServlet.java:750)\n",
       "\tat org.eclipse.jetty.servlet.ServletHolder.handle(ServletHolder.java:799)\n",
       "\tat org.eclipse.jetty.servlet.ServletHandler.doHandle(ServletHandler.java:554)\n",
       "\tat org.eclipse.jetty.server.handler.ScopedHandler.nextScope(ScopedHandler.java:190)\n",
       "\tat org.eclipse.jetty.servlet.ServletHandler.doScope(ServletHandler.java:505)\n",
       "\tat org.eclipse.jetty.server.handler.ScopedHandler.handle(ScopedHandler.java:141)\n",
       "\tat org.eclipse.jetty.server.handler.HandlerWrapper.handle(HandlerWrapper.java:127)\n",
       "\tat org.eclipse.jetty.server.Server.handle(Server.java:516)\n",
       "\tat org.eclipse.jetty.server.HttpChannel.lambda$handle$1(HttpChannel.java:487)\n",
       "\tat org.eclipse.jetty.server.HttpChannel.dispatch(HttpChannel.java:732)\n",
       "\tat org.eclipse.jetty.server.HttpChannel.handle(HttpChannel.java:479)\n",
       "\tat org.eclipse.jetty.server.HttpConnection.onFillable(HttpConnection.java:277)\n",
       "\tat org.eclipse.jetty.io.AbstractConnection$ReadCallback.succeeded(AbstractConnection.java:311)\n",
       "\tat org.eclipse.jetty.io.FillInterest.fillable(FillInterest.java:105)\n",
       "\tat org.eclipse.jetty.io.ssl.SslConnection$DecryptedEndPoint.onFillable(SslConnection.java:555)\n",
       "\tat org.eclipse.jetty.io.ssl.SslConnection.onFillable(SslConnection.java:410)\n",
       "\tat org.eclipse.jetty.io.ssl.SslConnection$2.succeeded(SslConnection.java:164)\n",
       "\tat org.eclipse.jetty.io.FillInterest.fillable(FillInterest.java:105)\n",
       "\tat org.eclipse.jetty.io.ChannelEndPoint$1.run(ChannelEndPoint.java:104)\n",
       "\tat org.eclipse.jetty.util.thread.strategy.EatWhatYouKill.runTask(EatWhatYouKill.java:338)\n",
       "\tat org.eclipse.jetty.util.thread.strategy.EatWhatYouKill.doProduce(EatWhatYouKill.java:315)\n",
       "\tat org.eclipse.jetty.util.thread.strategy.EatWhatYouKill.tryProduce(EatWhatYouKill.java:173)\n",
       "\tat org.eclipse.jetty.util.thread.strategy.EatWhatYouKill.run(EatWhatYouKill.java:131)\n",
       "\tat org.eclipse.jetty.util.thread.ReservedThreadExecutor$ReservedThread.run(ReservedThreadExecutor.java:409)\n",
       "\tat com.databricks.rpc.InstrumentedQueuedThreadPool$$anon$1.$anonfun$run$2(InstrumentedQueuedThreadPool.scala:105)\n",
       "\tat scala.runtime.java8.JFunction0$mcV$sp.apply(JFunction0$mcV$sp.java:23)\n",
       "\tat com.databricks.logging.AttributionContextTracing.$anonfun$withAttributionContext$1(AttributionContextTracing.scala:48)\n",
       "\tat com.databricks.logging.AttributionContext$.$anonfun$withValue$1(AttributionContext.scala:271)\n",
       "\tat scala.util.DynamicVariable.withValue(DynamicVariable.scala:62)\n",
       "\tat com.databricks.logging.AttributionContext$.withValue(AttributionContext.scala:267)\n",
       "\tat com.databricks.logging.AttributionContextTracing.withAttributionContext(AttributionContextTracing.scala:46)\n",
       "\tat com.databricks.logging.AttributionContextTracing.withAttributionContext$(AttributionContextTracing.scala:43)\n",
       "\tat com.databricks.rpc.InstrumentedQueuedThreadPool.withAttributionContext(InstrumentedQueuedThreadPool.scala:45)\n",
       "\tat com.databricks.rpc.InstrumentedQueuedThreadPool$$anon$1.$anonfun$run$1(InstrumentedQueuedThreadPool.scala:105)\n",
       "\tat scala.runtime.java8.JFunction0$mcV$sp.apply(JFunction0$mcV$sp.java:23)\n",
       "\tat com.databricks.instrumentation.QueuedThreadPoolInstrumenter.trackActiveThreads(QueuedThreadPoolInstrumenter.scala:110)\n",
       "\tat com.databricks.instrumentation.QueuedThreadPoolInstrumenter.trackActiveThreads$(QueuedThreadPoolInstrumenter.scala:107)\n",
       "\tat com.databricks.rpc.InstrumentedQueuedThreadPool.trackActiveThreads(InstrumentedQueuedThreadPool.scala:45)\n",
       "\tat com.databricks.rpc.InstrumentedQueuedThreadPool$$anon$1.run(InstrumentedQueuedThreadPool.scala:87)\n",
       "\tat org.eclipse.jetty.util.thread.QueuedThreadPool.runJob(QueuedThreadPool.java:883)\n",
       "\tat org.eclipse.jetty.util.thread.QueuedThreadPool$Runner.run(QueuedThreadPool.java:1034)\n",
       "\tat java.base/java.lang.Thread.run(Thread.java:840)"
      ]
     },
     "metadata": {
      "application/vnd.databricks.v1+output": {
       "addedWidgets": {},
       "arguments": {},
       "datasetInfos": [],
       "jupyterProps": null,
       "metadata": {
        "errorSummary": "Cancelled"
       },
       "removedWidgets": [],
       "sqlProps": null,
       "stackFrames": [
        "com.databricks.backend.common.rpc.CommandCancelledException",
        "\tat com.databricks.spark.chauffeur.ExecContextState.cancel(ExecContextState.scala:431)",
        "\tat com.databricks.spark.chauffeur.ExecutionContextManagerV1.cancelExecution(ExecutionContextManagerV1.scala:458)",
        "\tat com.databricks.spark.chauffeur.ChauffeurState.$anonfun$process$1(ChauffeurState.scala:537)",
        "\tat com.databricks.logging.UsageLogging.$anonfun$recordOperation$1(UsageLogging.scala:508)",
        "\tat com.databricks.logging.UsageLogging.executeThunkAndCaptureResultTags$1(UsageLogging.scala:613)",
        "\tat com.databricks.logging.UsageLogging.$anonfun$recordOperationWithResultTags$4(UsageLogging.scala:636)",
        "\tat com.databricks.logging.AttributionContextTracing.$anonfun$withAttributionContext$1(AttributionContextTracing.scala:48)",
        "\tat com.databricks.logging.AttributionContext$.$anonfun$withValue$1(AttributionContext.scala:271)",
        "\tat scala.util.DynamicVariable.withValue(DynamicVariable.scala:62)",
        "\tat com.databricks.logging.AttributionContext$.withValue(AttributionContext.scala:267)",
        "\tat com.databricks.logging.AttributionContextTracing.withAttributionContext(AttributionContextTracing.scala:46)",
        "\tat com.databricks.logging.AttributionContextTracing.withAttributionContext$(AttributionContextTracing.scala:43)",
        "\tat com.databricks.spark.chauffeur.ChauffeurState.withAttributionContext(ChauffeurState.scala:52)",
        "\tat com.databricks.logging.AttributionContextTracing.withAttributionTags(AttributionContextTracing.scala:95)",
        "\tat com.databricks.logging.AttributionContextTracing.withAttributionTags$(AttributionContextTracing.scala:76)",
        "\tat com.databricks.spark.chauffeur.ChauffeurState.withAttributionTags(ChauffeurState.scala:52)",
        "\tat com.databricks.logging.UsageLogging.recordOperationWithResultTags(UsageLogging.scala:608)",
        "\tat com.databricks.logging.UsageLogging.recordOperationWithResultTags$(UsageLogging.scala:517)",
        "\tat com.databricks.spark.chauffeur.ChauffeurState.recordOperationWithResultTags(ChauffeurState.scala:52)",
        "\tat com.databricks.logging.UsageLogging.recordOperation(UsageLogging.scala:509)",
        "\tat com.databricks.logging.UsageLogging.recordOperation$(UsageLogging.scala:475)",
        "\tat com.databricks.spark.chauffeur.ChauffeurState.recordOperation(ChauffeurState.scala:52)",
        "\tat com.databricks.spark.chauffeur.ChauffeurState.process(ChauffeurState.scala:515)",
        "\tat com.databricks.spark.chauffeur.Chauffeur$$anon$1$$anonfun$receive$1.handleDriverRequest$1(Chauffeur.scala:850)",
        "\tat com.databricks.spark.chauffeur.Chauffeur$$anon$1$$anonfun$receive$1.$anonfun$applyOrElse$5(Chauffeur.scala:876)",
        "\tat com.databricks.logging.UsageLogging.executeThunkAndCaptureResultTags$1(UsageLogging.scala:613)",
        "\tat com.databricks.logging.UsageLogging.$anonfun$recordOperationWithResultTags$4(UsageLogging.scala:636)",
        "\tat com.databricks.logging.AttributionContextTracing.$anonfun$withAttributionContext$1(AttributionContextTracing.scala:48)",
        "\tat com.databricks.logging.AttributionContext$.$anonfun$withValue$1(AttributionContext.scala:271)",
        "\tat scala.util.DynamicVariable.withValue(DynamicVariable.scala:62)",
        "\tat com.databricks.logging.AttributionContext$.withValue(AttributionContext.scala:267)",
        "\tat com.databricks.logging.AttributionContextTracing.withAttributionContext(AttributionContextTracing.scala:46)",
        "\tat com.databricks.logging.AttributionContextTracing.withAttributionContext$(AttributionContextTracing.scala:43)",
        "\tat com.databricks.rpc.ServerBackend.withAttributionContext(ServerBackend.scala:22)",
        "\tat com.databricks.logging.AttributionContextTracing.withAttributionTags(AttributionContextTracing.scala:95)",
        "\tat com.databricks.logging.AttributionContextTracing.withAttributionTags$(AttributionContextTracing.scala:76)",
        "\tat com.databricks.rpc.ServerBackend.withAttributionTags(ServerBackend.scala:22)",
        "\tat com.databricks.logging.UsageLogging.recordOperationWithResultTags(UsageLogging.scala:608)",
        "\tat com.databricks.logging.UsageLogging.recordOperationWithResultTags$(UsageLogging.scala:517)",
        "\tat com.databricks.rpc.ServerBackend.recordOperationWithResultTags(ServerBackend.scala:22)",
        "\tat com.databricks.spark.chauffeur.Chauffeur$$anon$1$$anonfun$receive$1.handleDriverRequestWithUsageLogging$1(Chauffeur.scala:875)",
        "\tat com.databricks.spark.chauffeur.Chauffeur$$anon$1$$anonfun$receive$1.applyOrElse(Chauffeur.scala:930)",
        "\tat com.databricks.spark.chauffeur.Chauffeur$$anon$1$$anonfun$receive$1.applyOrElse(Chauffeur.scala:723)",
        "\tat com.databricks.rpc.ServerBackend.$anonfun$internalReceive0$2(ServerBackend.scala:174)",
        "\tat com.databricks.rpc.ServerBackend$$anonfun$commonReceive$1.applyOrElse(ServerBackend.scala:200)",
        "\tat com.databricks.rpc.ServerBackend$$anonfun$commonReceive$1.applyOrElse(ServerBackend.scala:200)",
        "\tat com.databricks.rpc.ServerBackend.internalReceive0(ServerBackend.scala:171)",
        "\tat com.databricks.rpc.ServerBackend.$anonfun$internalReceive$1(ServerBackend.scala:147)",
        "\tat com.databricks.logging.UsageLogging.$anonfun$recordOperation$1(UsageLogging.scala:508)",
        "\tat com.databricks.logging.UsageLogging.executeThunkAndCaptureResultTags$1(UsageLogging.scala:613)",
        "\tat com.databricks.logging.UsageLogging.$anonfun$recordOperationWithResultTags$4(UsageLogging.scala:636)",
        "\tat com.databricks.logging.AttributionContextTracing.$anonfun$withAttributionContext$1(AttributionContextTracing.scala:48)",
        "\tat com.databricks.logging.AttributionContext$.$anonfun$withValue$1(AttributionContext.scala:271)",
        "\tat scala.util.DynamicVariable.withValue(DynamicVariable.scala:62)",
        "\tat com.databricks.logging.AttributionContext$.withValue(AttributionContext.scala:267)",
        "\tat com.databricks.logging.AttributionContextTracing.withAttributionContext(AttributionContextTracing.scala:46)",
        "\tat com.databricks.logging.AttributionContextTracing.withAttributionContext$(AttributionContextTracing.scala:43)",
        "\tat com.databricks.rpc.ServerBackend.withAttributionContext(ServerBackend.scala:22)",
        "\tat com.databricks.logging.AttributionContextTracing.withAttributionTags(AttributionContextTracing.scala:95)",
        "\tat com.databricks.logging.AttributionContextTracing.withAttributionTags$(AttributionContextTracing.scala:76)",
        "\tat com.databricks.rpc.ServerBackend.withAttributionTags(ServerBackend.scala:22)",
        "\tat com.databricks.logging.UsageLogging.recordOperationWithResultTags(UsageLogging.scala:608)",
        "\tat com.databricks.logging.UsageLogging.recordOperationWithResultTags$(UsageLogging.scala:517)",
        "\tat com.databricks.rpc.ServerBackend.recordOperationWithResultTags(ServerBackend.scala:22)",
        "\tat com.databricks.logging.UsageLogging.recordOperation(UsageLogging.scala:509)",
        "\tat com.databricks.logging.UsageLogging.recordOperation$(UsageLogging.scala:475)",
        "\tat com.databricks.rpc.ServerBackend.recordOperation(ServerBackend.scala:22)",
        "\tat com.databricks.rpc.ServerBackend.internalReceive(ServerBackend.scala:146)",
        "\tat com.databricks.rpc.JettyServer$RequestManager.handleRPC(JettyServer.scala:1025)",
        "\tat com.databricks.rpc.JettyServer$RequestManager.handleRequestAndRespond(JettyServer.scala:946)",
        "\tat com.databricks.rpc.JettyServer$RequestManager.$anonfun$handleHttp$6(JettyServer.scala:547)",
        "\tat com.databricks.rpc.JettyServer$RequestManager.$anonfun$handleHttp$6$adapted(JettyServer.scala:516)",
        "\tat com.databricks.logging.activity.ActivityContextFactory$.$anonfun$withActivityInternal$7(ActivityContextFactory.scala:638)",
        "\tat com.databricks.logging.AttributionContextTracing.$anonfun$withAttributionContext$1(AttributionContextTracing.scala:48)",
        "\tat com.databricks.logging.AttributionContext$.$anonfun$withValue$1(AttributionContext.scala:271)",
        "\tat scala.util.DynamicVariable.withValue(DynamicVariable.scala:62)",
        "\tat com.databricks.logging.AttributionContext$.withValue(AttributionContext.scala:267)",
        "\tat com.databricks.logging.AttributionContextTracing.withAttributionContext(AttributionContextTracing.scala:46)",
        "\tat com.databricks.logging.AttributionContextTracing.withAttributionContext$(AttributionContextTracing.scala:43)",
        "\tat com.databricks.logging.activity.ActivityContextFactory$.withAttributionContext(ActivityContextFactory.scala:47)",
        "\tat com.databricks.logging.activity.ActivityContextFactory$.$anonfun$withActivityInternal$4(ActivityContextFactory.scala:638)",
        "\tat com.databricks.context.integrity.IntegrityCheckContext$ThreadLocalStorage$.withValue(IntegrityCheckContext.scala:73)",
        "\tat com.databricks.logging.activity.ActivityContextFactory$.withActivityInternal(ActivityContextFactory.scala:616)",
        "\tat com.databricks.logging.activity.ActivityContextFactory$.withServiceRequestActivity(ActivityContextFactory.scala:238)",
        "\tat com.databricks.rpc.JettyServer$RequestManager.handleHttp(JettyServer.scala:516)",
        "\tat com.databricks.rpc.JettyServer$RequestManager.doPost(JettyServer.scala:406)",
        "\tat javax.servlet.http.HttpServlet.service(HttpServlet.java:665)",
        "\tat com.databricks.rpc.HttpServletWithPatch.service(HttpServletWithPatch.scala:33)",
        "\tat javax.servlet.http.HttpServlet.service(HttpServlet.java:750)",
        "\tat org.eclipse.jetty.servlet.ServletHolder.handle(ServletHolder.java:799)",
        "\tat org.eclipse.jetty.servlet.ServletHandler.doHandle(ServletHandler.java:554)",
        "\tat org.eclipse.jetty.server.handler.ScopedHandler.nextScope(ScopedHandler.java:190)",
        "\tat org.eclipse.jetty.servlet.ServletHandler.doScope(ServletHandler.java:505)",
        "\tat org.eclipse.jetty.server.handler.ScopedHandler.handle(ScopedHandler.java:141)",
        "\tat org.eclipse.jetty.server.handler.HandlerWrapper.handle(HandlerWrapper.java:127)",
        "\tat org.eclipse.jetty.server.Server.handle(Server.java:516)",
        "\tat org.eclipse.jetty.server.HttpChannel.lambda$handle$1(HttpChannel.java:487)",
        "\tat org.eclipse.jetty.server.HttpChannel.dispatch(HttpChannel.java:732)",
        "\tat org.eclipse.jetty.server.HttpChannel.handle(HttpChannel.java:479)",
        "\tat org.eclipse.jetty.server.HttpConnection.onFillable(HttpConnection.java:277)",
        "\tat org.eclipse.jetty.io.AbstractConnection$ReadCallback.succeeded(AbstractConnection.java:311)",
        "\tat org.eclipse.jetty.io.FillInterest.fillable(FillInterest.java:105)",
        "\tat org.eclipse.jetty.io.ssl.SslConnection$DecryptedEndPoint.onFillable(SslConnection.java:555)",
        "\tat org.eclipse.jetty.io.ssl.SslConnection.onFillable(SslConnection.java:410)",
        "\tat org.eclipse.jetty.io.ssl.SslConnection$2.succeeded(SslConnection.java:164)",
        "\tat org.eclipse.jetty.io.FillInterest.fillable(FillInterest.java:105)",
        "\tat org.eclipse.jetty.io.ChannelEndPoint$1.run(ChannelEndPoint.java:104)",
        "\tat org.eclipse.jetty.util.thread.strategy.EatWhatYouKill.runTask(EatWhatYouKill.java:338)",
        "\tat org.eclipse.jetty.util.thread.strategy.EatWhatYouKill.doProduce(EatWhatYouKill.java:315)",
        "\tat org.eclipse.jetty.util.thread.strategy.EatWhatYouKill.tryProduce(EatWhatYouKill.java:173)",
        "\tat org.eclipse.jetty.util.thread.strategy.EatWhatYouKill.run(EatWhatYouKill.java:131)",
        "\tat org.eclipse.jetty.util.thread.ReservedThreadExecutor$ReservedThread.run(ReservedThreadExecutor.java:409)",
        "\tat com.databricks.rpc.InstrumentedQueuedThreadPool$$anon$1.$anonfun$run$2(InstrumentedQueuedThreadPool.scala:105)",
        "\tat scala.runtime.java8.JFunction0$mcV$sp.apply(JFunction0$mcV$sp.java:23)",
        "\tat com.databricks.logging.AttributionContextTracing.$anonfun$withAttributionContext$1(AttributionContextTracing.scala:48)",
        "\tat com.databricks.logging.AttributionContext$.$anonfun$withValue$1(AttributionContext.scala:271)",
        "\tat scala.util.DynamicVariable.withValue(DynamicVariable.scala:62)",
        "\tat com.databricks.logging.AttributionContext$.withValue(AttributionContext.scala:267)",
        "\tat com.databricks.logging.AttributionContextTracing.withAttributionContext(AttributionContextTracing.scala:46)",
        "\tat com.databricks.logging.AttributionContextTracing.withAttributionContext$(AttributionContextTracing.scala:43)",
        "\tat com.databricks.rpc.InstrumentedQueuedThreadPool.withAttributionContext(InstrumentedQueuedThreadPool.scala:45)",
        "\tat com.databricks.rpc.InstrumentedQueuedThreadPool$$anon$1.$anonfun$run$1(InstrumentedQueuedThreadPool.scala:105)",
        "\tat scala.runtime.java8.JFunction0$mcV$sp.apply(JFunction0$mcV$sp.java:23)",
        "\tat com.databricks.instrumentation.QueuedThreadPoolInstrumenter.trackActiveThreads(QueuedThreadPoolInstrumenter.scala:110)",
        "\tat com.databricks.instrumentation.QueuedThreadPoolInstrumenter.trackActiveThreads$(QueuedThreadPoolInstrumenter.scala:107)",
        "\tat com.databricks.rpc.InstrumentedQueuedThreadPool.trackActiveThreads(InstrumentedQueuedThreadPool.scala:45)",
        "\tat com.databricks.rpc.InstrumentedQueuedThreadPool$$anon$1.run(InstrumentedQueuedThreadPool.scala:87)",
        "\tat org.eclipse.jetty.util.thread.QueuedThreadPool.runJob(QueuedThreadPool.java:883)",
        "\tat org.eclipse.jetty.util.thread.QueuedThreadPool$Runner.run(QueuedThreadPool.java:1034)",
        "\tat java.base/java.lang.Thread.run(Thread.java:840)"
       ],
       "type": "baseError"
      }
     },
     "output_type": "display_data"
    }
   ],
   "source": [
    "# Combine summary datasets into one DataFrame for visualizations\n",
    "summary_combined_outliers = pd.concat([random_search_outliers_summary, trajectory_outliers_summary, optuna_outliers_summary, afi_outliers_summary], ignore_index=True)\n",
    "\n",
    "# Combine all datasets for scatter plot visualization\n",
    "all_data_combined = pd.concat([\n",
    "    random_search_outliers.assign(method=\"Random Search\"),\n",
    "    trajectory_outliers.assign(method=\"Trajectory HPO\"),\n",
    "    optuna_outliers.assign(method=\"Optuna HPO\"),\n",
    "    afi_outliers.assign(method=\"AFI HPO\")\n",
    "], ignore_index=True)\n"
   ]
  },
  {
   "cell_type": "code",
   "execution_count": 0,
   "metadata": {
    "application/vnd.databricks.v1+cell": {
     "cellMetadata": {
      "byteLimit": 2048000,
      "rowLimit": 10000
     },
     "inputWidgets": {},
     "nuid": "c59de3a2-70a8-4dce-a16c-bd8151ca07ce",
     "showTitle": false,
     "tableResultSettingsMap": {},
     "title": ""
    }
   },
   "outputs": [],
   "source": [
    "# Combine summary datasets into one DataFrame for visualizations\n",
    "summary_combined = pd.concat([random_search_summary, trajectory_summary, optuna_summary, afi_summary], ignore_index=True)\n",
    "\n",
    "# Combine all datasets for scatter plot visualization\n",
    "all_data_combined_outliers = pd.concat([\n",
    "    random_search.assign(method=\"Random Search\"),\n",
    "    trajectory.assign(method=\"Trajectory HPO\"),\n",
    "    optuna.assign(method=\"Optuna HPO\"),\n",
    "    afi.assign(method=\"AFI HPO\")\n",
    "], ignore_index=True)"
   ]
  },
  {
   "cell_type": "code",
   "execution_count": 0,
   "metadata": {
    "application/vnd.databricks.v1+cell": {
     "cellMetadata": {
      "byteLimit": 2048000,
      "rowLimit": 10000
     },
     "inputWidgets": {},
     "nuid": "c27532da-2361-4b9e-9505-cf8eac8dc654",
     "showTitle": false,
     "tableResultSettingsMap": {},
     "title": ""
    }
   },
   "outputs": [],
   "source": [
    "# Check the columns in the summary_combined DataFrame to identify the issue\n",
    "summary_combined.columns\n",
    "summary_combined.to_csv('summary_combined.csv')"
   ]
  },
  {
   "cell_type": "code",
   "execution_count": 0,
   "metadata": {
    "application/vnd.databricks.v1+cell": {
     "cellMetadata": {
      "byteLimit": 2048000,
      "rowLimit": 10000
     },
     "inputWidgets": {},
     "nuid": "d761a5d7-49a0-4ce1-b61e-e66029902f25",
     "showTitle": false,
     "tableResultSettingsMap": {},
     "title": ""
    }
   },
   "outputs": [
    {
     "output_type": "stream",
     "name": "stdout",
     "output_type": "stream",
     "text": [
      "        Model Name   Mean RMSE    Mean MAE  Mean Total Time\n0    Random Search  594.757152  437.364092         1.250168\n1    Random Search  634.726862  483.084650         0.485284\n2    Random Search  593.392186  463.062553         0.382468\n3    Random Search  719.827717  514.449955         0.024168\n4    Random Search  645.039818  440.643362         1.717342\n5    Random Search  265.121512  169.393987         0.142455\n6    Random Search  601.792468  454.097355        18.985063\n7   Trajectory HPO  594.757152  437.364092         1.741010\n8   Trajectory HPO  627.917400  469.932267         0.742089\n9   Trajectory HPO  610.882329  468.224903         0.686357\n10  Trajectory HPO  704.885705  500.338964         0.049923\n11  Trajectory HPO  265.121512  169.393987         0.253967\n12  Trajectory HPO  581.523976  441.115500        24.155668\n13      Optuna HPO  838.224882  630.439751         1.123465\n14      Optuna HPO  775.293699  591.816243         0.043283\n15      Optuna HPO  789.786274  590.166980         0.764918\n16      Optuna HPO  533.741653  339.305035         0.198251\n17      Optuna HPO  866.898438  655.724632         2.968587\n18         AFI HPO  597.438344  433.302338         1.637034\n19         AFI HPO  668.156455  502.919363         0.682828\n20         AFI HPO  618.296927  467.882025         0.565489\n21         AFI HPO  704.885705  500.338964         0.050138\n22         AFI HPO  265.121512  169.393987         0.214387\n23         AFI HPO  606.840085  451.310583        24.371786\n"
     ]
    }
   ],
   "source": [
    "# Create the summary DataFrame with selected metrics\n",
    "analysis_summary = summary_combined[['method', 'best_rmse_mean', 'mae_mean', 'total_time_mean']].copy()\n",
    "\n",
    "# Rename columns for clarity\n",
    "analysis_summary.rename(columns={\n",
    "    'method': 'Model Name',\n",
    "    'best_rmse_mean': 'Mean RMSE',\n",
    "    'mae_mean': 'Mean MAE',\n",
    "    'total_time_mean': 'Mean Total Time'\n",
    "}, inplace=True)\n",
    "\n",
    "# Display the resulting DataFrame\n",
    "print(analysis_summary)\n"
   ]
  },
  {
   "cell_type": "code",
   "execution_count": 0,
   "metadata": {
    "application/vnd.databricks.v1+cell": {
     "cellMetadata": {
      "byteLimit": 2048000,
      "rowLimit": 10000
     },
     "inputWidgets": {},
     "nuid": "94ed94ae-f1f6-46bf-87fc-4c6f5bf5fe42",
     "showTitle": false,
     "tableResultSettingsMap": {},
     "title": ""
    }
   },
   "outputs": [
    {
     "output_type": "stream",
     "name": "stdout",
     "output_type": "stream",
     "text": [
      "        Model Name        Mean RMSE         Mean MAE Mean Total Time\n0    Random Search  594.76 ± 424.89  437.36 ± 348.06     1.25 ± 1.03\n1    Random Search  634.73 ± 489.65  483.08 ± 418.75     0.49 ± 0.04\n2    Random Search  593.39 ± 455.15  463.06 ± 400.34     0.38 ± 0.01\n3    Random Search  719.83 ± 606.57  514.45 ± 505.73      0.02 ± 0.0\n4    Random Search  645.04 ± 580.85  440.64 ± 407.58     1.72 ± 1.07\n5    Random Search  265.12 ± 148.97  169.39 ± 136.47     0.14 ± 0.03\n6    Random Search  601.79 ± 424.38    454.1 ± 362.3    18.99 ± 9.47\n7   Trajectory HPO   599.27 ± 417.7  441.88 ± 341.78     1.96 ± 3.41\n8   Trajectory HPO  655.71 ± 491.77   492.3 ± 418.24     0.56 ± 0.04\n9   Trajectory HPO  621.01 ± 452.04   477.5 ± 393.43     0.48 ± 0.03\n10  Trajectory HPO  725.11 ± 594.93   520.26 ± 496.4      0.04 ± 0.0\n11  Trajectory HPO  320.35 ± 231.36  216.74 ± 203.52     1.26 ± 3.57\n12  Trajectory HPO  601.92 ± 413.76  448.76 ± 348.81   25.16 ± 26.53\n13      Optuna HPO   598.4 ± 416.72  442.02 ± 341.86     2.02 ± 3.49\n14      Optuna HPO  630.43 ± 489.42  473.65 ± 418.04     0.62 ± 0.04\n15      Optuna HPO  615.64 ± 441.91  485.89 ± 393.09      0.6 ± 0.03\n16      Optuna HPO  725.11 ± 594.93   520.26 ± 496.4     0.04 ± 0.01\n17      Optuna HPO  320.35 ± 231.36  216.74 ± 203.52     1.33 ± 3.68\n18      Optuna HPO  602.78 ± 415.39  458.76 ± 355.63    25.3 ± 26.32\n19         AFI HPO  866.27 ± 691.61  661.96 ± 583.32     0.93 ± 0.81\n20         AFI HPO  775.08 ± 601.34  593.84 ± 523.16     0.04 ± 0.02\n21         AFI HPO  749.09 ± 589.36   557.8 ± 472.66     0.61 ± 0.29\n22         AFI HPO  607.41 ± 578.62  415.58 ± 446.38     1.24 ± 3.91\n23         AFI HPO  891.03 ± 668.81  681.55 ± 560.66     2.69 ± 2.04\n"
     ]
    }
   ],
   "source": [
    "# Create a summary DataFrame with both mean and standard deviation\n",
    "analysis_summary = summary_combined[['method', \n",
    "                                     'best_rmse_mean', 'best_rmse_std', \n",
    "                                     'mae_mean', 'mae_std', \n",
    "                                     'total_time_mean', 'total_time_std']].copy()\n",
    "\n",
    "# Format columns to display \"mean ± std\"\n",
    "analysis_summary['Mean RMSE'] = analysis_summary['best_rmse_mean'].round(2).astype(str) + \" ± \" + analysis_summary['best_rmse_std'].round(2).astype(str)\n",
    "analysis_summary['Mean MAE'] = analysis_summary['mae_mean'].round(2).astype(str) + \" ± \" + analysis_summary['mae_std'].round(2).astype(str)\n",
    "analysis_summary['Mean Total Time'] = analysis_summary['total_time_mean'].round(2).astype(str) + \" ± \" + analysis_summary['total_time_std'].round(2).astype(str)\n",
    "\n",
    "# Select and rename columns\n",
    "analysis_summary = analysis_summary[['method', 'Mean RMSE', 'Mean MAE', 'Mean Total Time']].rename(columns={\n",
    "    'method': 'Model Name'\n",
    "})\n",
    "\n",
    "# Display the resulting DataFrame\n",
    "print(analysis_summary)\n"
   ]
  },
  {
   "cell_type": "code",
   "execution_count": 0,
   "metadata": {
    "application/vnd.databricks.v1+cell": {
     "cellMetadata": {
      "byteLimit": 2048000,
      "rowLimit": 10000
     },
     "inputWidgets": {},
     "nuid": "0b87eb3c-c67f-480e-b7ce-adaa5127f0fa",
     "showTitle": false,
     "tableResultSettingsMap": {},
     "title": ""
    }
   },
   "outputs": [
    {
     "output_type": "execute_result",
     "data": {
      "text/html": [
       "<div>\n",
       "<style scoped>\n",
       "    .dataframe tbody tr th:only-of-type {\n",
       "        vertical-align: middle;\n",
       "    }\n",
       "\n",
       "    .dataframe tbody tr th {\n",
       "        vertical-align: top;\n",
       "    }\n",
       "\n",
       "    .dataframe thead th {\n",
       "        text-align: right;\n",
       "    }\n",
       "</style>\n",
       "<table border=\"1\" class=\"dataframe\">\n",
       "  <thead>\n",
       "    <tr style=\"text-align: right;\">\n",
       "      <th></th>\n",
       "      <th>Model Name</th>\n",
       "      <th>Mean RMSE</th>\n",
       "      <th>Mean MAE</th>\n",
       "      <th>Mean R2</th>\n",
       "      <th>Mean Total Time</th>\n",
       "    </tr>\n",
       "  </thead>\n",
       "  <tbody>\n",
       "    <tr>\n",
       "      <th>0</th>\n",
       "      <td>AFI HPO</td>\n",
       "      <td>777.77 ± 625.95</td>\n",
       "      <td>582.15 ± 517.24</td>\n",
       "      <td>-1.14 ± 1.82</td>\n",
       "      <td>1.1 ± 1.41</td>\n",
       "    </tr>\n",
       "    <tr>\n",
       "      <th>1</th>\n",
       "      <td>Optuna HPO</td>\n",
       "      <td>582.12 ± 431.62</td>\n",
       "      <td>432.88 ± 368.09</td>\n",
       "      <td>-0.59 ± 2.43</td>\n",
       "      <td>4.99 ± 5.59</td>\n",
       "    </tr>\n",
       "    <tr>\n",
       "      <th>2</th>\n",
       "      <td>Random Search</td>\n",
       "      <td>579.24 ± 447.21</td>\n",
       "      <td>423.16 ± 368.46</td>\n",
       "      <td>-0.52 ± 2.43</td>\n",
       "      <td>3.28 ± 1.67</td>\n",
       "    </tr>\n",
       "    <tr>\n",
       "      <th>3</th>\n",
       "      <td>Trajectory HPO</td>\n",
       "      <td>587.23 ± 433.59</td>\n",
       "      <td>432.9 ± 367.03</td>\n",
       "      <td>-0.58 ± 2.29</td>\n",
       "      <td>4.91 ± 5.6</td>\n",
       "    </tr>\n",
       "  </tbody>\n",
       "</table>\n",
       "</div>"
      ],
      "text/plain": [
       "       Model Name        Mean RMSE  ...       Mean R2 Mean Total Time\n",
       "0         AFI HPO  777.77 ± 625.95  ...  -1.14 ± 1.82      1.1 ± 1.41\n",
       "1      Optuna HPO  582.12 ± 431.62  ...  -0.59 ± 2.43     4.99 ± 5.59\n",
       "2   Random Search  579.24 ± 447.21  ...  -0.52 ± 2.43     3.28 ± 1.67\n",
       "3  Trajectory HPO  587.23 ± 433.59  ...  -0.58 ± 2.29      4.91 ± 5.6\n",
       "\n",
       "[4 rows x 5 columns]"
      ]
     },
     "execution_count": 43,
     "metadata": {},
     "output_type": "execute_result"
    }
   ],
   "source": [
    "# Aggregate the metrics for each method (group by method)\n",
    "analysis_summary = summary_combined.groupby('method').agg(\n",
    "    best_rmse_mean=('best_rmse_mean', 'mean'),\n",
    "    best_rmse_std=('best_rmse_std', 'mean'),\n",
    "    mae_mean=('mae_mean', 'mean'),\n",
    "    mae_std=('mae_std', 'mean'),\n",
    "    r2_mean=('r2_mean', 'mean'),\n",
    "    r2_std=('r2_std', 'mean'),\n",
    "    total_time_mean=('total_time_mean', 'mean'),\n",
    "    total_time_std=('total_time_std', 'mean')\n",
    ").reset_index()\n",
    "\n",
    "# Format columns to display \"mean ± std\"\n",
    "analysis_summary['Mean RMSE'] = analysis_summary['best_rmse_mean'].round(2).astype(str) + \" ± \" + analysis_summary['best_rmse_std'].round(2).astype(str)\n",
    "analysis_summary['Mean MAE'] = analysis_summary['mae_mean'].round(2).astype(str) + \" ± \" + analysis_summary['mae_std'].round(2).astype(str)\n",
    "analysis_summary['Mean R2'] = analysis_summary['r2_mean'].round(2).astype(str) + \" ± \" + analysis_summary['r2_std'].round(2).astype(str)\n",
    "analysis_summary['Mean Total Time'] = analysis_summary['total_time_mean'].round(2).astype(str) + \" ± \" + analysis_summary['total_time_std'].round(2).astype(str)\n",
    "\n",
    "# Select and rename columns\n",
    "analysis_summary = analysis_summary[['method', 'Mean RMSE', 'Mean MAE', 'Mean R2', 'Mean Total Time']].rename(columns={\n",
    "    'method': 'Model Name'\n",
    "})\n",
    "# Set pandas to display all rows\n",
    "pd.set_option('display.max_rows', None)\n",
    "\n",
    "# Display the resulting DataFrame\n",
    "analysis_summary.head()\n",
    "\n"
   ]
  },
  {
   "cell_type": "code",
   "execution_count": 0,
   "metadata": {
    "application/vnd.databricks.v1+cell": {
     "cellMetadata": {
      "byteLimit": 2048000,
      "rowLimit": 10000
     },
     "inputWidgets": {},
     "nuid": "a45b2c02-c7cc-4c6d-9712-c56fdbafab7f",
     "showTitle": false,
     "tableResultSettingsMap": {},
     "title": ""
    }
   },
   "outputs": [
    {
     "output_type": "execute_result",
     "data": {
      "text/html": [
       "<div>\n",
       "<style scoped>\n",
       "    .dataframe tbody tr th:only-of-type {\n",
       "        vertical-align: middle;\n",
       "    }\n",
       "\n",
       "    .dataframe tbody tr th {\n",
       "        vertical-align: top;\n",
       "    }\n",
       "\n",
       "    .dataframe thead th {\n",
       "        text-align: right;\n",
       "    }\n",
       "</style>\n",
       "<table border=\"1\" class=\"dataframe\">\n",
       "  <thead>\n",
       "    <tr style=\"text-align: right;\">\n",
       "      <th></th>\n",
       "      <th>Model Name</th>\n",
       "      <th>Mean RMSE</th>\n",
       "      <th>Mean MAE</th>\n",
       "      <th>Mean R2</th>\n",
       "      <th>Mean Total Time</th>\n",
       "    </tr>\n",
       "  </thead>\n",
       "  <tbody>\n",
       "    <tr>\n",
       "      <th>0</th>\n",
       "      <td>AFI HPO</td>\n",
       "      <td>5964.74 ± 9016.76</td>\n",
       "      <td>4326.57 ± 7955.56</td>\n",
       "      <td>-21.76 ± 88.83</td>\n",
       "      <td>1.12 ± 1.27</td>\n",
       "    </tr>\n",
       "    <tr>\n",
       "      <th>1</th>\n",
       "      <td>Optuna HPO</td>\n",
       "      <td>4941.53 ± 7576.24</td>\n",
       "      <td>3455.08 ± 5742.34</td>\n",
       "      <td>-15.88 ± 69.22</td>\n",
       "      <td>5.47 ± 5.82</td>\n",
       "    </tr>\n",
       "    <tr>\n",
       "      <th>2</th>\n",
       "      <td>Random Search</td>\n",
       "      <td>4703.31 ± 7212.52</td>\n",
       "      <td>3274.86 ± 5400.67</td>\n",
       "      <td>-13.73 ± 59.7</td>\n",
       "      <td>4.9 ± 5.25</td>\n",
       "    </tr>\n",
       "    <tr>\n",
       "      <th>3</th>\n",
       "      <td>Trajectory HPO</td>\n",
       "      <td>4967.69 ± 7583.49</td>\n",
       "      <td>3467.05 ± 5783.39</td>\n",
       "      <td>-16.74 ± 73.51</td>\n",
       "      <td>5.31 ± 5.58</td>\n",
       "    </tr>\n",
       "  </tbody>\n",
       "</table>\n",
       "</div>"
      ],
      "text/plain": [
       "       Model Name          Mean RMSE  ...         Mean R2 Mean Total Time\n",
       "0         AFI HPO  5964.74 ± 9016.76  ...  -21.76 ± 88.83     1.12 ± 1.27\n",
       "1      Optuna HPO  4941.53 ± 7576.24  ...  -15.88 ± 69.22     5.47 ± 5.82\n",
       "2   Random Search  4703.31 ± 7212.52  ...   -13.73 ± 59.7      4.9 ± 5.25\n",
       "3  Trajectory HPO  4967.69 ± 7583.49  ...  -16.74 ± 73.51     5.31 ± 5.58\n",
       "\n",
       "[4 rows x 5 columns]"
      ]
     },
     "execution_count": 44,
     "metadata": {},
     "output_type": "execute_result"
    }
   ],
   "source": [
    "# Aggregate the metrics for each method (group by method)\n",
    "analysis_summary = summary_combined_outliers.groupby('method').agg(\n",
    "    best_rmse_mean=('best_rmse_mean', 'mean'),\n",
    "    best_rmse_std=('best_rmse_std', 'mean'),\n",
    "    mae_mean=('mae_mean', 'mean'),\n",
    "    mae_std=('mae_std', 'mean'),\n",
    "    r2_mean=('r2_mean', 'mean'),\n",
    "    r2_std=('r2_std', 'mean'),\n",
    "    total_time_mean=('total_time_mean', 'mean'),\n",
    "    total_time_std=('total_time_std', 'mean')\n",
    ").reset_index()\n",
    "\n",
    "# Format columns to display \"mean ± std\"\n",
    "analysis_summary['Mean RMSE'] = analysis_summary['best_rmse_mean'].round(2).astype(str) + \" ± \" + analysis_summary['best_rmse_std'].round(2).astype(str)\n",
    "analysis_summary['Mean MAE'] = analysis_summary['mae_mean'].round(2).astype(str) + \" ± \" + analysis_summary['mae_std'].round(2).astype(str)\n",
    "analysis_summary['Mean R2'] = analysis_summary['r2_mean'].round(2).astype(str) + \" ± \" + analysis_summary['r2_std'].round(2).astype(str)\n",
    "analysis_summary['Mean Total Time'] = analysis_summary['total_time_mean'].round(2).astype(str) + \" ± \" + analysis_summary['total_time_std'].round(2).astype(str)\n",
    "\n",
    "# Select and rename columns\n",
    "analysis_summary = analysis_summary[['method', 'Mean RMSE', 'Mean MAE', 'Mean R2', 'Mean Total Time']].rename(columns={\n",
    "    'method': 'Model Name'\n",
    "})\n",
    "# Set pandas to display all rows\n",
    "pd.set_option('display.max_rows', None)\n",
    "\n",
    "# Display the resulting DataFrame\n",
    "analysis_summary.head()"
   ]
  },
  {
   "cell_type": "code",
   "execution_count": 0,
   "metadata": {
    "application/vnd.databricks.v1+cell": {
     "cellMetadata": {
      "byteLimit": 2048000,
      "rowLimit": 10000
     },
     "inputWidgets": {},
     "nuid": "2f1bdfaf-9cb9-4d56-b413-b4370ed2f60b",
     "showTitle": false,
     "tableResultSettingsMap": {},
     "title": ""
    }
   },
   "outputs": [
    {
     "output_type": "stream",
     "name": "stderr",
     "output_type": "stream",
     "text": [
      "/root/.ipykernel/11445/command-6154121983180881-4151298293:14: FutureWarning: \n\nThe `ci` parameter is deprecated. Use `errorbar=None` for the same effect.\n\n  sns.barplot(x='method', y=metric, data=data, ci=None)\n"
     ]
    },
    {
     "output_type": "display_data",
     "data": {
      "image/png": "[encoded data removed]",
      "text/plain": [
       "<Figure size 1000x300 with 1 Axes>"
      ]
     },
     "metadata": {},
     "output_type": "display_data"
    },
    {
     "output_type": "stream",
     "name": "stderr",
     "output_type": "stream",
     "text": [
      "/root/.ipykernel/11445/command-6154121983180881-4151298293:14: FutureWarning: \n\nThe `ci` parameter is deprecated. Use `errorbar=None` for the same effect.\n\n  sns.barplot(x='method', y=metric, data=data, ci=None)\n"
     ]
    },
    {
     "output_type": "display_data",
     "data": {
      "image/png": "[encoded data removed]",
      "text/plain": [
       "<Figure size 1000x300 with 1 Axes>"
      ]
     },
     "metadata": {},
     "output_type": "display_data"
    },
    {
     "output_type": "stream",
     "name": "stderr",
     "output_type": "stream",
     "text": [
      "/root/.ipykernel/11445/command-6154121983180881-4151298293:14: FutureWarning: \n\nThe `ci` parameter is deprecated. Use `errorbar=None` for the same effect.\n\n  sns.barplot(x='method', y=metric, data=data, ci=None)\n"
     ]
    },
    {
     "output_type": "display_data",
     "data": {
      "image/png": "[encoded data removed]",
      "text/plain": [
       "<Figure size 1000x300 with 1 Axes>"
      ]
     },
     "metadata": {},
     "output_type": "display_data"
    },
    {
     "output_type": "stream",
     "name": "stderr",
     "output_type": "stream",
     "text": [
      "/root/.ipykernel/11445/command-6154121983180881-4151298293:14: FutureWarning: \n\nThe `ci` parameter is deprecated. Use `errorbar=None` for the same effect.\n\n  sns.barplot(x='method', y=metric, data=data, ci=None)\n"
     ]
    },
    {
     "output_type": "display_data",
     "data": {
      "image/png": "[encoded data removed]",
      "text/plain": [
       "<Figure size 1000x300 with 1 Axes>"
      ]
     },
     "metadata": {},
     "output_type": "display_data"
    }
   ],
   "source": [
    "# Function to plot bar charts\n",
    "def plot_bar(data, metric, title, xlabel, ylabel):\n",
    "    \"\"\"\n",
    "    Plot bar chart for a specific metric.\n",
    "\n",
    "    Args:\n",
    "        data (pd.DataFrame): Summary dataset.\n",
    "        metric (str): Metric to plot.\n",
    "        title (str): Chart title.\n",
    "        xlabel (str): X-axis label.\n",
    "        ylabel (str): Y-axis label.\n",
    "    \"\"\"\n",
    "    plt.figure(figsize=(10, 3))\n",
    "    sns.barplot(x='method', y=metric, data=data, ci=None)\n",
    "    plt.title(title)\n",
    "    plt.xlabel(xlabel)\n",
    "    plt.ylabel(ylabel)\n",
    "    plt.xticks(rotation=45)\n",
    "    plt.tight_layout()\n",
    "    plt.show()\n",
    "\n",
    "# Visualizations\n",
    "plot_bar(summary_combined, 'best_rmse_mean', 'Mean Best RMSE by Method', 'Method', 'Mean Best RMSE')\n",
    "plot_bar(summary_combined, 'mae_mean', 'Mean MAE by Method', 'Method', 'Mean MAE')\n",
    "plot_bar(summary_combined, 'r2_mean', 'Mean R2 by Method', 'Method', 'Mean R2')\n",
    "plot_bar(summary_combined, 'total_time_mean', 'Mean Total Time by Method', 'Method', 'Mean Total Time')\n"
   ]
  },
  {
   "cell_type": "code",
   "execution_count": 0,
   "metadata": {
    "application/vnd.databricks.v1+cell": {
     "cellMetadata": {
      "byteLimit": 2048000,
      "rowLimit": 10000
     },
     "inputWidgets": {},
     "nuid": "1eec5e80-0d98-49a7-b9b4-31fc141410aa",
     "showTitle": false,
     "tableResultSettingsMap": {},
     "title": ""
    }
   },
   "outputs": [
    {
     "output_type": "stream",
     "name": "stdout",
     "output_type": "stream",
     "text": [
      "           Metric          Method  P-Value\n0  best_rmse_mean  Trajectory HPO   0.4550\n1  best_rmse_mean      Optuna HPO   0.4946\n2  best_rmse_mean         AFI HPO   0.0001\n3        mae_mean  Trajectory HPO   0.4278\n4        mae_mean      Optuna HPO   0.4192\n5        mae_mean         AFI HPO   0.0019\n6         r2_mean  Trajectory HPO   0.5696\n7         r2_mean      Optuna HPO   0.5641\n8         r2_mean         AFI HPO   0.9499\n"
     ]
    }
   ],
   "source": [
    "import numpy as np\n",
    "import pandas as pd\n",
    "\n",
    "def bootstrap_test(data, metric, baseline_method, alternative_method, n_resamples=10000):\n",
    "    \"\"\"\n",
    "    Perform bootstrapping to test the hypothesis that an alternative method performs better than the baseline.\n",
    "\n",
    "    Args:\n",
    "        data (pd.DataFrame): Dataset containing performance metrics.\n",
    "        metric (str): Column name of the metric to compare.\n",
    "        baseline_method (str): Name of the baseline method (e.g., 'Random Search').\n",
    "        alternative_method (str): Name of the alternative method to test against the baseline.\n",
    "        n_resamples (int): Number of bootstrap resamples.\n",
    "\n",
    "    Returns:\n",
    "        float: P-value for the test.\n",
    "    \"\"\"\n",
    "    # Filter data for the baseline and alternative methods\n",
    "    baseline_data = data[data[\"method\"] == baseline_method][metric]\n",
    "    alternative_data = data[data[\"method\"] == alternative_method][metric]\n",
    "\n",
    "    # Bootstrapping\n",
    "    baseline_resamples = np.random.choice(baseline_data, size=(n_resamples, len(baseline_data)), replace=True)\n",
    "    alternative_resamples = np.random.choice(alternative_data, size=(n_resamples, len(alternative_data)), replace=True)\n",
    "\n",
    "    # Calculate mean differences\n",
    "    mean_differences = alternative_resamples.mean(axis=1) - baseline_resamples.mean(axis=1)\n",
    "\n",
    "    # Calculate p-value\n",
    "    p_value = (mean_differences <= 0).sum() / n_resamples\n",
    "    return p_value\n",
    "\n",
    "# Example usage\n",
    "# Assume `summary_combined` is a DataFrame containing the metrics and methods\n",
    "metrics = ['best_rmse_mean', 'mae_mean', 'r2_mean']\n",
    "baseline = 'Random Search'\n",
    "methods_to_test = ['Trajectory HPO', 'Optuna HPO', 'AFI HPO']\n",
    "\n",
    "# Perform the test for each metric and method\n",
    "results = []\n",
    "for metric in metrics:\n",
    "    for method in methods_to_test:\n",
    "        p_value = bootstrap_test(summary_combined, metric, baseline, method)\n",
    "        results.append({'Metric': metric, 'Method': method, 'P-Value': p_value})\n",
    "\n",
    "# Convert results to a DataFrame\n",
    "statistical_results = pd.DataFrame(results)\n",
    "\n",
    "# Display results\n",
    "print(statistical_results)\n"
   ]
  }
 ],
 "metadata": {
  "application/vnd.databricks.v1+notebook": {
   "computePreferences": null,
   "dashboards": [],
   "environmentMetadata": {
    "base_environment": "",
    "client": "1"
   },
   "language": "python",
   "notebookMetadata": {
    "pythonIndentUnit": 4
   },
   "notebookName": "Analysis",
   "widgets": {}
  },
  "language_info": {
   "name": "python"
  }
 },
 "nbformat": 4,
 "nbformat_minor": 0
}